{
 "cells": [
  {
   "cell_type": "markdown",
   "metadata": {},
   "source": [
    "In this example, we will see GEPA evolve the whole DSPy program (not just the instruction), including modifying the structure/dataflow of the program. We will use GEPA to tune a simple dspy.ChainOfThought module for MATH questions."
   ]
  },
  {
   "cell_type": "code",
   "execution_count": 1,
   "metadata": {},
   "outputs": [],
   "source": [
    "import os\n",
    "\n",
    "os.environ[\"OPENAI_API_KEY\"] = input(\"OPENAI_API_KEY: \")"
   ]
  },
  {
   "cell_type": "code",
   "execution_count": 2,
   "metadata": {},
   "outputs": [],
   "source": [
    "import dspy"
   ]
  },
  {
   "cell_type": "code",
   "execution_count": 19,
   "metadata": {},
   "outputs": [
    {
     "name": "stdout",
     "output_type": "stream",
     "text": [
      "350 350 487\n"
     ]
    }
   ],
   "source": [
    "from dspy.datasets import MATH\n",
    "\n",
    "dataset = MATH(subset=\"algebra\")\n",
    "print(len(dataset.train), len(dataset.dev), len(dataset.test))"
   ]
  },
  {
   "cell_type": "markdown",
   "metadata": {},
   "source": [
    "Let's inspect one example from the training set."
   ]
  },
  {
   "cell_type": "code",
   "execution_count": 4,
   "metadata": {},
   "outputs": [
    {
     "name": "stdout",
     "output_type": "stream",
     "text": [
      "Question: The doctor has told Cal O'Ree that during his ten weeks of working out at the gym, he can expect each week's weight loss to be $1\\%$ of his weight at the end of the previous week. His weight at the beginning of the workouts is $244$ pounds. How many pounds does he expect to weigh at the end of the ten weeks? Express your answer to the nearest whole number.\n",
      "Answer: 221\n"
     ]
    }
   ],
   "source": [
    "example = dataset.train[0]\n",
    "print(\"Question:\", example.question)\n",
    "print(\"Answer:\", example.answer)"
   ]
  },
  {
   "cell_type": "markdown",
   "metadata": {},
   "source": [
    "Let's define a simple DSPy program to solve this task.\n",
    "\n",
    "Unlike dspy.GEPA that can take an instantiated DSPy module as input, here, we want to evolve the full DSPy program. Hence, a candidate here is the source code as string."
   ]
  },
  {
   "cell_type": "code",
   "execution_count": null,
   "metadata": {},
   "outputs": [],
   "source": [
    "program_src = \"\"\"import dspy\n",
    "program = dspy.Predict(\"question -> answer\")\"\"\""
   ]
  },
  {
   "cell_type": "markdown",
   "metadata": {},
   "source": [
    "GEPA interfaces with external frameworks through an adapter. In this case, we integrate GEPA with a DspyAdapter."
   ]
  },
  {
   "cell_type": "code",
   "execution_count": 6,
   "metadata": {},
   "outputs": [],
   "source": [
    "from gepa.adapters.dspy_full_program_adapter.full_program_adapter import DspyAdapter"
   ]
  },
  {
   "cell_type": "code",
   "execution_count": 7,
   "metadata": {},
   "outputs": [],
   "source": [
    "def metric_fn(example, pred, trace=None):\n",
    "    score = dataset.metric(example, pred)\n",
    "    if score:\n",
    "        feedback_text = f\"The provided answer {pred.answer} is correct.\"\n",
    "    else:\n",
    "        feedback_text = f\"The provided answer {pred.answer} is incorrect. The correct answer is {example.answer}.\"\n",
    "    return dspy.Prediction(score=score, feedback=feedback_text)"
   ]
  },
  {
   "cell_type": "code",
   "execution_count": 8,
   "metadata": {},
   "outputs": [],
   "source": [
    "reflection_lm = dspy.LM(model=\"openai/gpt-4.1\", max_tokens=32000)\n",
    "adapter = DspyAdapter(\n",
    "    task_lm=dspy.LM(model=\"openai/gpt-4.1-nano\", max_tokens=32000),\n",
    "    metric_fn=metric_fn,\n",
    "    num_threads=32,\n",
    "    reflection_lm=lambda x: reflection_lm(x)[0],\n",
    ")"
   ]
  },
  {
   "cell_type": "markdown",
   "metadata": {},
   "source": [
    "Let's evaluate the base program"
   ]
  },
  {
   "cell_type": "code",
   "execution_count": 17,
   "metadata": {},
   "outputs": [
    {
     "name": "stderr",
     "output_type": "stream",
     "text": [
      "2025/08/27 05:10:58 INFO dspy.evaluate.evaluate: Average Metric: 327.0 / 487 (67.1%)\n"
     ]
    }
   ],
   "source": [
    "adapter.evaluate(dataset.test, {\"program\": program_src})"
   ]
  },
  {
   "cell_type": "markdown",
   "metadata": {},
   "source": [
    "The base program obtains a score of 67.1%"
   ]
  },
  {
   "cell_type": "markdown",
   "metadata": {},
   "source": [
    "Let's launch the GEPA optimization. We will just use 50 training and 50 valset examples, with 500 max metric calls (allowing for less than 10 GEPA candidates to be proposed)."
   ]
  },
  {
   "cell_type": "code",
   "execution_count": null,
   "metadata": {},
   "outputs": [],
   "source": [
    "import random\n",
    "\n",
    "random.Random(0).shuffle(dataset.train)\n",
    "random.Random(0).shuffle(dataset.dev)"
   ]
  },
  {
   "cell_type": "code",
   "execution_count": 12,
   "metadata": {},
   "outputs": [
    {
     "name": "stderr",
     "output_type": "stream",
     "text": [
      "GEPA Optimization:   0%|                                                                                                              | 0/500 [00:00<?, ?rollouts/s]2025/08/27 05:07:43 INFO dspy.evaluate.evaluate: Average Metric: 34.0 / 50 (68.0%)\n"
     ]
    },
    {
     "name": "stdout",
     "output_type": "stream",
     "text": [
      "Iteration 0: Base program full valset score: 0.68\n",
      "Iteration 1: Selected program 0 score: 0.68\n",
      "Average Metric: 2.00 / 3 (66.7%): 100%|██████████████████████████████████████████████████████████████████████████████████████████████| 3/3 [00:00<00:00, 678.47it/s]"
     ]
    },
    {
     "name": "stderr",
     "output_type": "stream",
     "text": [
      "2025/08/27 05:07:43 INFO dspy.evaluate.evaluate: Average Metric: 2.0 / 3 (66.7%)\n",
      "2025/08/27 05:07:43 INFO dspy.evaluate.evaluate: Average Metric: 1.0 / 3 (33.3%)\n",
      "GEPA Optimization:  11%|███████████▏                                                                                        | 56/500 [00:00<00:00, 555.61rollouts/s]"
     ]
    },
    {
     "name": "stdout",
     "output_type": "stream",
     "text": [
      "\n",
      "Iteration 1: Proposed new text for program: import dspy\n",
      "\n",
      "class MathQA(dspy.Signature):\n",
      "    \"\"\"\n",
      "    Solve the given math question step by step, showing all necessary reasoning and calculations.\n",
      "    Then, provide the final answer clearly and concisely.\n",
      "    \"\"\"\n",
      "    question = dspy.InputField(desc=\"A math problem to solve.\")\n",
      "    reasoning = dspy.OutputField(desc=\"Step-by-step logical reasoning and calculations leading to the answer.\")\n",
      "    answer = dspy.OutputField(desc=\"The final answer, clearly stated.\")\n",
      "\n",
      "program = dspy.ChainOfThought(MathQA)\n",
      "Iteration 1: New subsample score is not better, skipping\n",
      "Iteration 2: Selected program 0 score: 0.68\n",
      "Average Metric: 2.00 / 3 (66.7%): 100%|██████████████████████████████████████████████████████████████████████████████████████████████| 3/3 [00:00<00:00, 646.54it/s]"
     ]
    },
    {
     "name": "stderr",
     "output_type": "stream",
     "text": [
      "2025/08/27 05:07:43 INFO dspy.evaluate.evaluate: Average Metric: 2.0 / 3 (66.7%)\n",
      "2025/08/27 05:07:43 INFO dspy.evaluate.evaluate: Average Metric: 1.0 / 3 (33.3%)\n"
     ]
    },
    {
     "name": "stdout",
     "output_type": "stream",
     "text": [
      "\n",
      "Iteration 2: Proposed new text for program: from typing import Optional\n",
      "import dspy\n",
      "\n",
      "class MathQA(dspy.Signature):\n",
      "    \"\"\"\n",
      "    Solve the given math question step by step, showing all necessary reasoning and calculations.\n",
      "    Then, provide the final answer in the required form.\n",
      "    \"\"\"\n",
      "    question = dspy.InputField(desc=\"A math problem to solve.\")\n",
      "    reasoning = dspy.OutputField(desc=\"Step-by-step solution with all calculations and explanations.\")\n",
      "    answer = dspy.OutputField(desc=\"Final answer, clearly boxed or highlighted as required.\")\n",
      "\n",
      "program = dspy.ChainOfThought(MathQA)\n",
      "Iteration 2: New subsample score is not better, skipping\n",
      "Iteration 3: Selected program 0 score: 0.68\n",
      "Average Metric: 2.00 / 3 (66.7%): 100%|██████████████████████████████████████████████████████████████████████████████████████████████| 3/3 [00:00<00:00, 645.15it/s]"
     ]
    },
    {
     "name": "stderr",
     "output_type": "stream",
     "text": [
      "2025/08/27 05:07:44 INFO dspy.evaluate.evaluate: Average Metric: 2.0 / 3 (66.7%)\n",
      "2025/08/27 05:07:44 INFO dspy.evaluate.evaluate: Average Metric: 2.0 / 3 (66.7%)\n"
     ]
    },
    {
     "name": "stdout",
     "output_type": "stream",
     "text": [
      "\n",
      "Iteration 3: Proposed new text for program: from typing import Any\n",
      "import dspy\n",
      "\n",
      "class MathQA(dspy.Signature):\n",
      "    \"\"\"\n",
      "    Solve the given math question step by step, showing clear reasoning and calculation, then provide the final answer in the required format.\n",
      "    \"\"\"\n",
      "    question = dspy.InputField(desc=\"A math problem to solve.\")\n",
      "    reasoning = dspy.OutputField(desc=\"Step-by-step solution and calculations, with clear explanations.\")\n",
      "    answer = dspy.OutputField(desc=\"Final answer, formatted exactly as requested in the question.\")\n",
      "\n",
      "program = dspy.ChainOfThought(MathQA)\n",
      "Iteration 3: New subsample score is not better, skipping\n",
      "Iteration 4: Selected program 0 score: 0.68\n",
      "Average Metric: 2.00 / 3 (66.7%): 100%|██████████████████████████████████████████████████████████████████████████████████████████████| 3/3 [00:00<00:00, 671.30it/s]"
     ]
    },
    {
     "name": "stderr",
     "output_type": "stream",
     "text": [
      "2025/08/27 05:07:44 INFO dspy.evaluate.evaluate: Average Metric: 2.0 / 3 (66.7%)\n",
      "2025/08/27 05:07:44 INFO dspy.evaluate.evaluate: Average Metric: 2.0 / 3 (66.7%)\n"
     ]
    },
    {
     "name": "stdout",
     "output_type": "stream",
     "text": [
      "\n",
      "Iteration 4: Proposed new text for program: import dspy\n",
      "\n",
      "class MathQA(dspy.Signature):\n",
      "    \"\"\"\n",
      "    Solve the given math question step by step, showing all necessary reasoning and calculations.\n",
      "    Provide a clear, concise answer in the required format.\n",
      "    \"\"\"\n",
      "    question = dspy.InputField(desc=\"A math problem to solve.\")\n",
      "    reasoning = dspy.OutputField(desc=\"Step-by-step solution with all calculations and explanations.\")\n",
      "    answer = dspy.OutputField(desc=\"Final answer, clearly stated and formatted as requested in the question.\")\n",
      "\n",
      "program = dspy.ChainOfThought(MathQA)\n",
      "Iteration 4: New subsample score is not better, skipping\n",
      "Iteration 5: Selected program 0 score: 0.68\n",
      "Average Metric: 1.00 / 3 (33.3%): 100%|██████████████████████████████████████████████████████████████████████████████████████████████| 3/3 [00:00<00:00, 446.92it/s]"
     ]
    },
    {
     "name": "stderr",
     "output_type": "stream",
     "text": [
      "2025/08/27 05:07:44 INFO dspy.evaluate.evaluate: Average Metric: 1.0 / 3 (33.3%)\n",
      "2025/08/27 05:07:44 INFO dspy.evaluate.evaluate: Average Metric: 0.0 / 3 (0.0%)\n"
     ]
    },
    {
     "name": "stdout",
     "output_type": "stream",
     "text": [
      "\n",
      "Iteration 5: Proposed new text for program: from typing import Tuple\n",
      "import dspy\n",
      "\n",
      "class MathQA(dspy.Signature):\n",
      "    \"\"\"\n",
      "    Solve the given math question step by step, showing clear reasoning and providing a concise, boxed final answer.\n",
      "    \"\"\"\n",
      "    question = dspy.InputField(desc=\"A math problem to solve.\")\n",
      "    reasoning = dspy.OutputField(desc=\"Step-by-step solution with clear logical steps and all necessary calculations.\")\n",
      "    answer: str = dspy.OutputField(desc=\"Final answer, boxed or clearly marked, in simplest form.\")\n",
      "\n",
      "program = dspy.ChainOfThought(MathQA)\n",
      "Iteration 5: New subsample score is not better, skipping\n",
      "Iteration 6: Selected program 0 score: 0.68\n",
      "Average Metric: 1.00 / 3 (33.3%): 100%|██████████████████████████████████████████████████████████████████████████████████████████████| 3/3 [00:00<00:00, 548.44it/s]"
     ]
    },
    {
     "name": "stderr",
     "output_type": "stream",
     "text": [
      "2025/08/27 05:07:44 INFO dspy.evaluate.evaluate: Average Metric: 1.0 / 3 (33.3%)\n",
      "2025/08/27 05:07:44 INFO dspy.evaluate.evaluate: Average Metric: 0.0 / 3 (0.0%)\n"
     ]
    },
    {
     "name": "stdout",
     "output_type": "stream",
     "text": [
      "\n",
      "Iteration 6: Proposed new text for program: import dspy\n",
      "\n",
      "class MathQA(dspy.Signature):\n",
      "    \"\"\"\n",
      "    Solve the given math or word problem step by step, showing all reasoning and calculations.\n",
      "    Then, provide the final answer clearly and concisely.\n",
      "    \"\"\"\n",
      "    question = dspy.InputField(desc=\"A math or word problem to solve.\", type=str)\n",
      "    reasoning = dspy.OutputField(desc=\"Step-by-step reasoning and calculations.\", type=str)\n",
      "    answer = dspy.OutputField(desc=\"Final answer, clearly stated.\", type=str)\n",
      "\n",
      "program = dspy.ChainOfThought(MathQA)\n",
      "Iteration 6: New subsample score is not better, skipping\n",
      "Iteration 7: Selected program 0 score: 0.68\n",
      "Average Metric: 3.00 / 3 (100.0%): 100%|█████████████████████████████████████████████████████████████████████████████████████████████| 3/3 [00:00<00:00, 589.50it/s]"
     ]
    },
    {
     "name": "stderr",
     "output_type": "stream",
     "text": [
      "2025/08/27 05:07:44 INFO dspy.evaluate.evaluate: Average Metric: 3.0 / 3 (100.0%)\n"
     ]
    },
    {
     "name": "stdout",
     "output_type": "stream",
     "text": [
      "\n",
      "Iteration 7: All subsample scores perfect. Skipping.\n",
      "Iteration 7: Reflective mutation did not propose a new candidate\n",
      "Iteration 8: Selected program 0 score: 0.68\n",
      "Average Metric: 3.00 / 3 (100.0%): 100%|█████████████████████████████████████████████████████████████████████████████████████████████| 3/3 [00:00<00:00, 604.72it/s]"
     ]
    },
    {
     "name": "stderr",
     "output_type": "stream",
     "text": [
      "2025/08/27 05:07:44 INFO dspy.evaluate.evaluate: Average Metric: 3.0 / 3 (100.0%)\n"
     ]
    },
    {
     "name": "stdout",
     "output_type": "stream",
     "text": [
      "\n",
      "Iteration 8: All subsample scores perfect. Skipping.\n",
      "Iteration 8: Reflective mutation did not propose a new candidate\n",
      "Iteration 9: Selected program 0 score: 0.68\n",
      "Average Metric: 3.00 / 3 (100.0%): 100%|█████████████████████████████████████████████████████████████████████████████████████████████| 3/3 [00:00<00:00, 561.81it/s]"
     ]
    },
    {
     "name": "stderr",
     "output_type": "stream",
     "text": [
      "2025/08/27 05:07:44 INFO dspy.evaluate.evaluate: Average Metric: 3.0 / 3 (100.0%)\n"
     ]
    },
    {
     "name": "stdout",
     "output_type": "stream",
     "text": [
      "\n",
      "Iteration 9: All subsample scores perfect. Skipping.\n",
      "Iteration 9: Reflective mutation did not propose a new candidate\n",
      "Iteration 10: Selected program 0 score: 0.68\n",
      "Average Metric: 3.00 / 3 (100.0%): 100%|█████████████████████████████████████████████████████████████████████████████████████████████| 3/3 [00:00<00:00, 618.96it/s]"
     ]
    },
    {
     "name": "stderr",
     "output_type": "stream",
     "text": [
      "2025/08/27 05:07:44 INFO dspy.evaluate.evaluate: Average Metric: 3.0 / 3 (100.0%)\n"
     ]
    },
    {
     "name": "stdout",
     "output_type": "stream",
     "text": [
      "\n",
      "Iteration 10: All subsample scores perfect. Skipping.\n",
      "Iteration 10: Reflective mutation did not propose a new candidate\n",
      "Iteration 11: Selected program 0 score: 0.68\n",
      "Average Metric: 2.00 / 3 (66.7%): 100%|██████████████████████████████████████████████████████████████████████████████████████████████| 3/3 [00:00<00:00, 545.94it/s]"
     ]
    },
    {
     "name": "stderr",
     "output_type": "stream",
     "text": [
      "2025/08/27 05:07:44 INFO dspy.evaluate.evaluate: Average Metric: 2.0 / 3 (66.7%)\n",
      "2025/08/27 05:07:44 INFO dspy.evaluate.evaluate: Average Metric: 3.0 / 3 (100.0%)\n"
     ]
    },
    {
     "name": "stdout",
     "output_type": "stream",
     "text": [
      "\n",
      "Iteration 11: Proposed new text for program: import dspy\n",
      "\n",
      "class MathQA(dspy.Signature):\n",
      "    \"\"\"\n",
      "    Solve the given math question step by step, showing clear reasoning and providing the final answer in the required format.\n",
      "    \"\"\"\n",
      "    question = dspy.InputField(desc=\"A math question, possibly with instructions on answer format.\")\n",
      "    reasoning = dspy.OutputField(desc=\"Step-by-step solution, showing all calculations and logic.\")\n",
      "    answer = dspy.OutputField(desc=\"Final answer, formatted exactly as requested in the question.\")\n",
      "\n",
      "program = dspy.ChainOfThought(MathQA)\n"
     ]
    },
    {
     "name": "stderr",
     "output_type": "stream",
     "text": [
      "2025/08/27 05:07:44 INFO dspy.evaluate.evaluate: Average Metric: 31.0 / 50 (62.0%)\n",
      "GEPA Optimization:  31%|██████████████████████████████▍                                                                    | 154/500 [00:00<00:00, 502.90rollouts/s]"
     ]
    },
    {
     "name": "stdout",
     "output_type": "stream",
     "text": [
      "Iteration 11: Full valset score for new program: 0.62\n",
      "Iteration 11: Full train_val score for new program: 0.62\n",
      "Iteration 11: Individual valset scores for new program: [True, False, True, True, True, False, False, True, True, True, True, True, False, False, True, True, False, True, True, True, False, False, True, False, False, True, False, True, True, False, True, True, True, True, True, False, True, False, False, True, True, True, True, True, False, False, True, False, True, False]\n",
      "Iteration 11: New valset pareto front scores: [True, False, True, True, True, False, False, True, True, True, True, True, True, True, True, True, False, True, True, True, True, False, True, False, False, True, False, True, True, False, True, True, True, True, True, False, True, True, True, True, True, True, True, True, False, False, True, False, True, False]\n",
      "Iteration 11: Full valset pareto front score: 0.72\n",
      "Iteration 11: Updated valset pareto front programs: [{0, 1}, {0, 1}, {0, 1}, {0, 1}, {0, 1}, {0, 1}, {0, 1}, {0, 1}, {0, 1}, {0, 1}, {0, 1}, {0, 1}, {0}, {0}, {0, 1}, {0, 1}, {0, 1}, {0, 1}, {0, 1}, {0, 1}, {0}, {0, 1}, {1}, {0, 1}, {0, 1}, {0, 1}, {0, 1}, {0, 1}, {0, 1}, {0, 1}, {0, 1}, {0, 1}, {0, 1}, {0, 1}, {0, 1}, {0, 1}, {0, 1}, {0}, {0}, {1}, {0, 1}, {0, 1}, {0, 1}, {0, 1}, {0, 1}, {0, 1}, {0, 1}, {0, 1}, {0, 1}, {0, 1}]\n",
      "Iteration 11: Best valset aggregate score so far: 0.68\n",
      "Iteration 11: Best program as per aggregate score on train_val: 0\n",
      "Iteration 11: Best program as per aggregate score on valset: 0\n",
      "Iteration 11: Best score on valset: 0.68\n",
      "Iteration 11: Best score on train_val: 0.68\n",
      "Iteration 11: Linear pareto front program index: 0\n",
      "Iteration 11: New program candidate index: 1\n",
      "Iteration 12: Selected program 1 score: 0.62\n",
      "Average Metric: 3.00 / 3 (100.0%): 100%|█████████████████████████████████████████████████████████████████████████████████████████████| 3/3 [00:00<00:00, 672.81it/s]"
     ]
    },
    {
     "name": "stderr",
     "output_type": "stream",
     "text": [
      "2025/08/27 05:07:44 INFO dspy.evaluate.evaluate: Average Metric: 3.0 / 3 (100.0%)\n"
     ]
    },
    {
     "name": "stdout",
     "output_type": "stream",
     "text": [
      "\n",
      "Iteration 12: All subsample scores perfect. Skipping.\n",
      "Iteration 12: Reflective mutation did not propose a new candidate\n",
      "Iteration 13: Selected program 0 score: 0.68\n",
      "Average Metric: 2.00 / 3 (66.7%): 100%|██████████████████████████████████████████████████████████████████████████████████████████████| 3/3 [00:00<00:00, 614.46it/s]"
     ]
    },
    {
     "name": "stderr",
     "output_type": "stream",
     "text": [
      "2025/08/27 05:07:44 INFO dspy.evaluate.evaluate: Average Metric: 2.0 / 3 (66.7%)\n"
     ]
    },
    {
     "name": "stdout",
     "output_type": "stream",
     "text": [
      "\n",
      "Iteration 13: Proposed new text for program: from typing import Literal\n",
      "import dspy\n",
      "\n",
      "class MathWordProblemSignature(dspy.Signature):\n",
      "    \"\"\"\n",
      "    Solve the given math word problem step by step, showing clear reasoning, and provide only the final answer in the answer field.\n",
      "    \"\"\"\n",
      "    question = dspy.InputField(desc=\"A math word problem to solve.\")\n",
      "    reasoning = dspy.OutputField(desc=\"Step-by-step solution with equations and explanations.\")\n",
      "    answer: str = dspy.OutputField(desc=\"Final answer only, no explanation.\")\n",
      "\n",
      "program = dspy.ChainOfThought(MathWordProblemSignature)\n"
     ]
    },
    {
     "name": "stderr",
     "output_type": "stream",
     "text": [
      "2025/08/27 05:07:44 INFO dspy.evaluate.evaluate: Average Metric: 3.0 / 3 (100.0%)\n",
      "2025/08/27 05:07:44 INFO dspy.evaluate.evaluate: Average Metric: 40.0 / 50 (80.0%)\n"
     ]
    },
    {
     "name": "stdout",
     "output_type": "stream",
     "text": [
      "Iteration 13: New program is on the linear pareto front\n",
      "Iteration 13: Full valset score for new program: 0.8\n",
      "Iteration 13: Full train_val score for new program: 0.8\n",
      "Iteration 13: Individual valset scores for new program: [True, True, True, True, True, False, False, True, True, True, True, True, True, True, True, True, False, True, True, True, True, False, True, True, False, True, False, True, True, False, True, True, True, True, True, True, True, True, True, True, True, True, True, True, False, False, True, True, True, False]\n",
      "Iteration 13: New valset pareto front scores: [True, True, True, True, True, False, False, True, True, True, True, True, True, True, True, True, False, True, True, True, True, False, True, True, False, True, False, True, True, False, True, True, True, True, True, True, True, True, True, True, True, True, True, True, False, False, True, True, True, False]\n",
      "Iteration 13: Full valset pareto front score: 0.8\n",
      "Iteration 13: Updated valset pareto front programs: [{0, 1, 2}, {2}, {0, 1, 2}, {0, 1, 2}, {0, 1, 2}, {0, 1, 2}, {0, 1, 2}, {0, 1, 2}, {0, 1, 2}, {0, 1, 2}, {0, 1, 2}, {0, 1, 2}, {0, 2}, {0, 2}, {0, 1, 2}, {0, 1, 2}, {0, 1, 2}, {0, 1, 2}, {0, 1, 2}, {0, 1, 2}, {0, 2}, {0, 1, 2}, {1, 2}, {2}, {0, 1, 2}, {0, 1, 2}, {0, 1, 2}, {0, 1, 2}, {0, 1, 2}, {0, 1, 2}, {0, 1, 2}, {0, 1, 2}, {0, 1, 2}, {0, 1, 2}, {0, 1, 2}, {2}, {0, 1, 2}, {0, 2}, {0, 2}, {1, 2}, {0, 1, 2}, {0, 1, 2}, {0, 1, 2}, {0, 1, 2}, {0, 1, 2}, {0, 1, 2}, {0, 1, 2}, {2}, {0, 1, 2}, {0, 1, 2}]\n",
      "Iteration 13: Best valset aggregate score so far: 0.8\n",
      "Iteration 13: Best program as per aggregate score on train_val: 2\n",
      "Iteration 13: Best program as per aggregate score on valset: 2\n",
      "Iteration 13: Best score on valset: 0.8\n",
      "Iteration 13: Best score on train_val: 0.8\n",
      "Iteration 13: Linear pareto front program index: 2\n",
      "Iteration 13: New program candidate index: 2\n",
      "Iteration 14: Selected program 2 score: 0.8\n",
      "Average Metric: 3.00 / 3 (100.0%): 100%|█████████████████████████████████████████████████████████████████████████████████████████████| 3/3 [00:00<00:00, 717.87it/s]"
     ]
    },
    {
     "name": "stderr",
     "output_type": "stream",
     "text": [
      "2025/08/27 05:07:44 INFO dspy.evaluate.evaluate: Average Metric: 3.0 / 3 (100.0%)\n"
     ]
    },
    {
     "name": "stdout",
     "output_type": "stream",
     "text": [
      "\n",
      "Iteration 14: All subsample scores perfect. Skipping.\n",
      "Iteration 14: Reflective mutation did not propose a new candidate\n",
      "Iteration 15: Selected program 2 score: 0.8\n",
      "Average Metric: 3.00 / 3 (100.0%): 100%|█████████████████████████████████████████████████████████████████████████████████████████████| 3/3 [00:00<00:00, 582.19it/s]"
     ]
    },
    {
     "name": "stderr",
     "output_type": "stream",
     "text": [
      "2025/08/27 05:07:44 INFO dspy.evaluate.evaluate: Average Metric: 3.0 / 3 (100.0%)\n",
      "GEPA Optimization:  44%|███████████████████████████████████████████▎                                                       | 219/500 [00:00<00:00, 540.88rollouts/s]"
     ]
    },
    {
     "name": "stdout",
     "output_type": "stream",
     "text": [
      "\n",
      "Iteration 15: All subsample scores perfect. Skipping.\n",
      "Iteration 15: Reflective mutation did not propose a new candidate\n",
      "Iteration 16: Selected program 2 score: 0.8\n",
      "Average Metric: 3.00 / 3 (100.0%): 100%|█████████████████████████████████████████████████████████████████████████████████████████████| 3/3 [00:00<00:00, 590.44it/s]"
     ]
    },
    {
     "name": "stderr",
     "output_type": "stream",
     "text": [
      "2025/08/27 05:07:44 INFO dspy.evaluate.evaluate: Average Metric: 3.0 / 3 (100.0%)\n"
     ]
    },
    {
     "name": "stdout",
     "output_type": "stream",
     "text": [
      "\n",
      "Iteration 16: All subsample scores perfect. Skipping.\n",
      "Iteration 16: Reflective mutation did not propose a new candidate\n",
      "Iteration 17: Selected program 2 score: 0.8\n",
      "Average Metric: 1.00 / 3 (33.3%): 100%|██████████████████████████████████████████████████████████████████████████████████████████████| 3/3 [00:00<00:00, 659.03it/s]"
     ]
    },
    {
     "name": "stderr",
     "output_type": "stream",
     "text": [
      "2025/08/27 05:07:44 INFO dspy.evaluate.evaluate: Average Metric: 1.0 / 3 (33.3%)\n"
     ]
    },
    {
     "name": "stdout",
     "output_type": "stream",
     "text": [
      "\n",
      "Iteration 17: Proposed new text for program: from typing import Literal\n",
      "import dspy\n",
      "\n",
      "class MathWordProblemSignature(dspy.Signature):\n",
      "    \"\"\"\n",
      "    Solve the given math word problem step by step, showing clear, detailed reasoning with all intermediate steps, equations, and explanations. In the 'answer' field, provide ONLY the final answer, fully simplified and in the form requested by the problem (e.g., as a reduced fraction, integer, or in terms of variables as specified). Do not include any explanation or units in the 'answer' field.\n",
      "    \"\"\"\n",
      "    question = dspy.InputField(desc=\"A math word problem to solve.\")\n",
      "    reasoning = dspy.OutputField(desc=\"Step-by-step solution with all intermediate steps, equations, and explanations. Show all algebraic manipulations and simplifications.\")\n",
      "    answer: str = dspy.OutputField(desc=\"Final answer only, fully simplified and in the form requested by the problem. No explanation, no units, no extra text.\")\n",
      "\n",
      "program = dspy.ChainOfThought(MathWordProblemSignature)\n"
     ]
    },
    {
     "name": "stderr",
     "output_type": "stream",
     "text": [
      "2025/08/27 05:08:08 INFO dspy.evaluate.evaluate: Average Metric: 1.0 / 3 (33.3%)\n"
     ]
    },
    {
     "name": "stdout",
     "output_type": "stream",
     "text": [
      "Iteration 17: New subsample score is not better, skipping\n",
      "Iteration 18: Selected program 2 score: 0.8\n",
      "Average Metric: 2.00 / 3 (66.7%): 100%|██████████████████████████████████████████████████████████████████████████████████████████████| 3/3 [00:00<00:00, 204.79it/s]"
     ]
    },
    {
     "name": "stderr",
     "output_type": "stream",
     "text": [
      "2025/08/27 05:08:08 INFO dspy.evaluate.evaluate: Average Metric: 2.0 / 3 (66.7%)\n",
      "2025/08/27 05:08:08 INFO dspy.evaluate.evaluate: Average Metric: 2.0 / 3 (66.7%)\n"
     ]
    },
    {
     "name": "stdout",
     "output_type": "stream",
     "text": [
      "\n",
      "Iteration 18: Proposed new text for program: from typing import Literal\n",
      "import dspy\n",
      "\n",
      "class MathWordProblemSignature(dspy.Signature):\n",
      "    \"\"\"\n",
      "    Solve the given math word problem step by step, showing clear, detailed reasoning with all intermediate steps, equations, and explanations. Ensure the reasoning is thorough and does not skip any steps. Then, provide ONLY the final answer (no explanation) in the answer field, formatted as requested in the problem (e.g., as a number, to the nearest whole number, etc.).\n",
      "    \"\"\"\n",
      "    question = dspy.InputField(desc=\"A math word problem to solve.\")\n",
      "    reasoning = dspy.OutputField(desc=\"Step-by-step, detailed solution with all intermediate steps, equations, and explanations. Do not skip any steps.\")\n",
      "    answer: str = dspy.OutputField(desc=\"Final answer only, formatted as requested in the problem. No explanation.\")\n",
      "\n",
      "class MathWordProblemModule(dspy.Module):\n",
      "    def __init__(self):\n",
      "        super().__init__()\n",
      "        # First, generate detailed reasoning\n",
      "        self.reasoning_generator = dspy.ChainOfThought(\n",
      "            \"question -> reasoning: str\"\n",
      "        )\n",
      "        # Then, extract the final answer from the reasoning and question\n",
      "        self.answer_extractor = dspy.Predict(\n",
      "            \"question, reasoning -> answer: str\"\n",
      "        )\n",
      "\n",
      "    def forward(self, question):\n",
      "        reasoning_pred = self.reasoning_generator(question=question)\n",
      "        answer_pred = self.answer_extractor(\n",
      "            question=question,\n",
      "            reasoning=reasoning_pred.reasoning\n",
      "        )\n",
      "        return dspy.Prediction(\n",
      "            reasoning=reasoning_pred.reasoning,\n",
      "            answer=answer_pred.answer\n",
      "        )\n",
      "\n",
      "program = MathWordProblemModule()\n",
      "Iteration 18: New subsample score is not better, skipping\n",
      "Iteration 19: Selected program 2 score: 0.8\n",
      "Average Metric: 3.00 / 3 (100.0%): 100%|█████████████████████████████████████████████████████████████████████████████████████████████| 3/3 [00:00<00:00, 404.80it/s]"
     ]
    },
    {
     "name": "stderr",
     "output_type": "stream",
     "text": [
      "2025/08/27 05:08:08 INFO dspy.evaluate.evaluate: Average Metric: 3.0 / 3 (100.0%)\n"
     ]
    },
    {
     "name": "stdout",
     "output_type": "stream",
     "text": [
      "\n",
      "Iteration 19: All subsample scores perfect. Skipping.\n",
      "Iteration 19: Reflective mutation did not propose a new candidate\n",
      "Iteration 20: Selected program 2 score: 0.8\n",
      "Average Metric: 2.00 / 3 (66.7%): 100%|██████████████████████████████████████████████████████████████████████████████████████████████| 3/3 [00:00<00:00, 146.79it/s]"
     ]
    },
    {
     "name": "stderr",
     "output_type": "stream",
     "text": [
      "2025/08/27 05:08:08 INFO dspy.evaluate.evaluate: Average Metric: 2.0 / 3 (66.7%)\n",
      "2025/08/27 05:08:08 INFO dspy.evaluate.evaluate: Average Metric: 2.0 / 3 (66.7%)\n"
     ]
    },
    {
     "name": "stdout",
     "output_type": "stream",
     "text": [
      "\n",
      "Iteration 20: Proposed new text for program: from typing import Optional\n",
      "import dspy\n",
      "\n",
      "class MathWordProblemSignature(dspy.Signature):\n",
      "    \"\"\"\n",
      "    Solve the given math word problem step by step, showing clear reasoning, and provide only the final answer in the answer field.\n",
      "    \n",
      "    Instructions:\n",
      "    - In the 'reasoning' field, show a detailed, step-by-step solution, including all equations, substitutions, and intermediate calculations. Use clear mathematical notation and explanations.\n",
      "    - In the 'answer' field, provide ONLY the final answer, formatted as requested in the problem (e.g., include units, round as specified, use scientific notation if required). Do not include any explanation or extra text in the answer field.\n",
      "    - If the answer is a number, repeat it exactly as it should appear in the answer box (e.g., include a dollar sign if required, or write as a decimal if specified).\n",
      "    - If the problem requests a sum, product, or other operation on multiple solutions, perform the operation and provide only the final result.\n",
      "    - Double-check that the answer matches the instructions and formatting required by the problem.\n",
      "    \"\"\"\n",
      "    question = dspy.InputField(desc=\"A math word problem to solve.\")\n",
      "    reasoning = dspy.OutputField(desc=\"Step-by-step solution with equations, substitutions, and explanations. Show all work.\")\n",
      "    answer: str = dspy.OutputField(desc=\"Final answer only, formatted exactly as requested (no explanation).\")\n",
      "\n",
      "program = dspy.ChainOfThought(MathWordProblemSignature)\n",
      "Iteration 20: New subsample score is not better, skipping\n",
      "Iteration 21: Selected program 2 score: 0.8\n",
      "Average Metric: 2.00 / 3 (66.7%): 100%|██████████████████████████████████████████████████████████████████████████████████████████████| 3/3 [00:00<00:00, 480.92it/s]"
     ]
    },
    {
     "name": "stderr",
     "output_type": "stream",
     "text": [
      "2025/08/27 05:08:08 INFO dspy.evaluate.evaluate: Average Metric: 2.0 / 3 (66.7%)\n",
      "2025/08/27 05:08:08 INFO dspy.evaluate.evaluate: Average Metric: 3.0 / 3 (100.0%)\n"
     ]
    },
    {
     "name": "stdout",
     "output_type": "stream",
     "text": [
      "\n",
      "Iteration 21: Proposed new text for program: from typing import Optional\n",
      "import dspy\n",
      "\n",
      "class MathWordProblemSignature(dspy.Signature):\n",
      "    \"\"\"\n",
      "    Solve the given math word problem step by step, showing clear, detailed reasoning with all intermediate calculations, and provide only the final answer in the answer field. \n",
      "    The answer should be in the simplest exact form (e.g., reduced fraction, radical, or boxed LaTeX), or as a decimal rounded as specified in the question. \n",
      "    Do not repeat the reasoning in the answer field. If the answer is a monetary value, include the dollar sign and two decimal places.\n",
      "    \"\"\"\n",
      "    question = dspy.InputField(desc=\"A math word problem to solve.\")\n",
      "    reasoning = dspy.OutputField(desc=\"Step-by-step solution with all intermediate steps, equations, and explanations. Show all calculations and clearly indicate the final answer at the end of the reasoning, but do not repeat it in the answer field.\")\n",
      "    answer: str = dspy.OutputField(desc=\"Final answer only, in the simplest exact form or as a decimal rounded as specified. If monetary, include the dollar sign and two decimal places. No explanation or extra text.\")\n",
      "\n",
      "class MathWordProblemModule(dspy.Module):\n",
      "    def __init__(self):\n",
      "        super().__init__()\n",
      "        # Use ChainOfThought for detailed reasoning, then Predict for answer extraction\n",
      "        self.cot = dspy.ChainOfThought(\n",
      "            \"question -> reasoning\"\n",
      "        )\n",
      "        self.ans = dspy.Predict(\n",
      "            \"question, reasoning -> answer: str\"\n",
      "        )\n",
      "\n",
      "    def forward(self, question):\n",
      "        reasoning_pred = self.cot(question=question)\n",
      "        answer_pred = self.ans(question=question, reasoning=reasoning_pred.reasoning)\n",
      "        return dspy.Prediction(reasoning=reasoning_pred.reasoning, answer=answer_pred.answer)\n",
      "\n",
      "program = MathWordProblemModule()\n"
     ]
    },
    {
     "name": "stderr",
     "output_type": "stream",
     "text": [
      "2025/08/27 05:08:08 INFO dspy.evaluate.evaluate: Average Metric: 36.0 / 50 (72.0%)\n",
      "GEPA Optimization:  60%|███████████████████████████████████████████████████████████▊                                        | 299/500 [00:24<00:25,  7.83rollouts/s]"
     ]
    },
    {
     "name": "stdout",
     "output_type": "stream",
     "text": [
      "Iteration 21: Full valset score for new program: 0.72\n",
      "Iteration 21: Full train_val score for new program: 0.72\n",
      "Iteration 21: Individual valset scores for new program: [True, False, True, True, True, False, False, True, True, True, True, True, True, True, True, True, True, True, True, True, False, False, True, True, False, True, False, True, True, False, True, True, True, True, True, False, True, True, True, True, False, True, True, True, False, False, True, False, True, False]\n",
      "Iteration 21: New valset pareto front scores: [True, True, True, True, True, False, False, True, True, True, True, True, True, True, True, True, True, True, True, True, True, False, True, True, False, True, False, True, True, False, True, True, True, True, True, True, True, True, True, True, True, True, True, True, False, False, True, True, True, False]\n",
      "Iteration 21: Full valset pareto front score: 0.82\n",
      "Iteration 21: Updated valset pareto front programs: [{0, 1, 2, 3}, {2}, {0, 1, 2, 3}, {0, 1, 2, 3}, {0, 1, 2, 3}, {0, 1, 2, 3}, {0, 1, 2, 3}, {0, 1, 2, 3}, {0, 1, 2, 3}, {0, 1, 2, 3}, {0, 1, 2, 3}, {0, 1, 2, 3}, {0, 2, 3}, {0, 2, 3}, {0, 1, 2, 3}, {0, 1, 2, 3}, {3}, {0, 1, 2, 3}, {0, 1, 2, 3}, {0, 1, 2, 3}, {0, 2}, {0, 1, 2, 3}, {1, 2, 3}, {2, 3}, {0, 1, 2, 3}, {0, 1, 2, 3}, {0, 1, 2, 3}, {0, 1, 2, 3}, {0, 1, 2, 3}, {0, 1, 2, 3}, {0, 1, 2, 3}, {0, 1, 2, 3}, {0, 1, 2, 3}, {0, 1, 2, 3}, {0, 1, 2, 3}, {2}, {0, 1, 2, 3}, {0, 2, 3}, {0, 2, 3}, {1, 2, 3}, {0, 1, 2}, {0, 1, 2, 3}, {0, 1, 2, 3}, {0, 1, 2, 3}, {0, 1, 2, 3}, {0, 1, 2, 3}, {0, 1, 2, 3}, {2}, {0, 1, 2, 3}, {0, 1, 2, 3}]\n",
      "Iteration 21: Best valset aggregate score so far: 0.8\n",
      "Iteration 21: Best program as per aggregate score on train_val: 2\n",
      "Iteration 21: Best program as per aggregate score on valset: 2\n",
      "Iteration 21: Best score on valset: 0.8\n",
      "Iteration 21: Best score on train_val: 0.8\n",
      "Iteration 21: Linear pareto front program index: 2\n",
      "Iteration 21: New program candidate index: 3\n",
      "Iteration 22: Selected program 2 score: 0.8\n",
      "Average Metric: 3.00 / 3 (100.0%): 100%|████████████████████████████████████████████████████████████████████████████████████████████| 3/3 [00:00<00:00, 1019.77it/s]"
     ]
    },
    {
     "name": "stderr",
     "output_type": "stream",
     "text": [
      "2025/08/27 05:08:08 INFO dspy.evaluate.evaluate: Average Metric: 3.0 / 3 (100.0%)\n"
     ]
    },
    {
     "name": "stdout",
     "output_type": "stream",
     "text": [
      "\n",
      "Iteration 22: All subsample scores perfect. Skipping.\n",
      "Iteration 22: Reflective mutation did not propose a new candidate\n",
      "Iteration 23: Selected program 3 score: 0.72\n",
      "Average Metric: 3.00 / 3 (100.0%): 100%|██████████████████████████████████████████████████████████████████████████████████████████████| 3/3 [00:00<00:00, 98.89it/s]"
     ]
    },
    {
     "name": "stderr",
     "output_type": "stream",
     "text": [
      "2025/08/27 05:08:08 INFO dspy.evaluate.evaluate: Average Metric: 3.0 / 3 (100.0%)\n"
     ]
    },
    {
     "name": "stdout",
     "output_type": "stream",
     "text": [
      "\n",
      "Iteration 23: All subsample scores perfect. Skipping.\n",
      "Iteration 23: Reflective mutation did not propose a new candidate\n",
      "Iteration 24: Selected program 3 score: 0.72\n",
      "Average Metric: 2.00 / 3 (66.7%): 100%|██████████████████████████████████████████████████████████████████████████████████████████████| 3/3 [00:00<00:00, 124.75it/s]"
     ]
    },
    {
     "name": "stderr",
     "output_type": "stream",
     "text": [
      "2025/08/27 05:08:08 INFO dspy.evaluate.evaluate: Average Metric: 2.0 / 3 (66.7%)\n"
     ]
    },
    {
     "name": "stdout",
     "output_type": "stream",
     "text": [
      "\n",
      "Iteration 24: Proposed new text for program: from typing import Optional\n",
      "import dspy\n",
      "\n",
      "class MathWordProblemSignature(dspy.Signature):\n",
      "    \"\"\"\n",
      "    Solve the given math word problem step by step, showing clear, detailed reasoning with all intermediate calculations, and provide only the final answer in the answer field. \n",
      "    The answer should be in the simplest exact form (e.g., reduced fraction, radical, or boxed LaTeX), or as a decimal rounded as specified in the question. \n",
      "    Do not repeat the reasoning in the answer field. If the answer is a monetary value, include the dollar sign and two decimal places.\n",
      "    \"\"\"\n",
      "    question = dspy.InputField(desc=\"A math word problem to solve.\")\n",
      "    reasoning = dspy.OutputField(desc=\"Step-by-step solution with all intermediate steps, equations, and explanations. Show all calculations and clearly indicate the final answer at the end of the reasoning, but do not repeat it in the answer field.\")\n",
      "    answer: str = dspy.OutputField(desc=\"Final answer only, in the simplest exact form or as a decimal rounded as specified. If monetary, include the dollar sign and two decimal places. No explanation or extra text.\")\n",
      "\n",
      "class MathWordProblemModule(dspy.Module):\n",
      "    def __init__(self):\n",
      "        super().__init__()\n",
      "        # Use ChainOfThought for detailed reasoning, then Predict for answer extraction\n",
      "        # Add explicit instructions to the submodules to improve answer extraction and reduce leakage of reasoning into the answer\n",
      "        self.cot = dspy.ChainOfThought(\n",
      "            dspy.Signature(\n",
      "                \"question -> reasoning\",\n",
      "                doc=\"Given a math word problem, provide a detailed, step-by-step solution with all intermediate steps, equations, and explanations. Clearly indicate the final answer at the end of the reasoning, but do NOT repeat it in the answer field.\"\n",
      "            )\n",
      "        )\n",
      "        self.ans = dspy.Predict(\n",
      "            dspy.Signature(\n",
      "                \"question, reasoning -> answer: str\",\n",
      "                doc=\"Given the math word problem and the detailed reasoning (which ends with the final answer), extract ONLY the final answer in the simplest exact form or as a decimal rounded as specified in the question. Do NOT include any explanation, units (unless required), or extra text. If the answer is a coordinate, output in the form (x, y). If the answer is an interval, output in interval notation. If monetary, include the dollar sign and two decimal places.\"\n",
      "            )\n",
      "        )\n",
      "\n",
      "    def forward(self, question):\n",
      "        # Optionally, add a postprocessing step to trim whitespace from answer\n",
      "        reasoning_pred = self.cot(question=question)\n",
      "        answer_pred = self.ans(question=question, reasoning=reasoning_pred.reasoning)\n",
      "        answer = answer_pred.answer.strip() if isinstance(answer_pred.answer, str) else answer_pred.answer\n",
      "        return dspy.Prediction(reasoning=reasoning_pred.reasoning, answer=answer)\n",
      "\n",
      "program = MathWordProblemModule()\n",
      "Iteration 24: New subsample score is not better, skipping\n",
      "Iteration 25: Selected program 3 score: 0.72\n",
      "Average Metric: 3.00 / 3 (100.0%): 100%|█████████████████████████████████████████████████████████████████████████████████████████████| 3/3 [00:00<00:00, 119.56it/s]"
     ]
    },
    {
     "name": "stderr",
     "output_type": "stream",
     "text": [
      "2025/08/27 05:08:08 INFO dspy.evaluate.evaluate: Average Metric: 3.0 / 3 (100.0%)\n",
      "GEPA Optimization:  63%|██████████████████████████████████████████████████████████████▊                                     | 314/500 [00:24<00:21,  8.65rollouts/s]"
     ]
    },
    {
     "name": "stdout",
     "output_type": "stream",
     "text": [
      "\n",
      "Iteration 25: All subsample scores perfect. Skipping.\n",
      "Iteration 25: Reflective mutation did not propose a new candidate\n",
      "Iteration 26: Selected program 2 score: 0.8\n",
      "Average Metric: 3.00 / 3 (100.0%): 100%|█████████████████████████████████████████████████████████████████████████████████████████████| 3/3 [00:00<00:00, 725.53it/s]"
     ]
    },
    {
     "name": "stderr",
     "output_type": "stream",
     "text": [
      "2025/08/27 05:08:08 INFO dspy.evaluate.evaluate: Average Metric: 3.0 / 3 (100.0%)\n"
     ]
    },
    {
     "name": "stdout",
     "output_type": "stream",
     "text": [
      "\n",
      "Iteration 26: All subsample scores perfect. Skipping.\n",
      "Iteration 26: Reflective mutation did not propose a new candidate\n",
      "Iteration 27: Selected program 2 score: 0.8\n",
      "Average Metric: 3.00 / 3 (100.0%): 100%|█████████████████████████████████████████████████████████████████████████████████████████████| 3/3 [00:00<00:00, 597.82it/s]"
     ]
    },
    {
     "name": "stderr",
     "output_type": "stream",
     "text": [
      "2025/08/27 05:08:08 INFO dspy.evaluate.evaluate: Average Metric: 3.0 / 3 (100.0%)\n"
     ]
    },
    {
     "name": "stdout",
     "output_type": "stream",
     "text": [
      "\n",
      "Iteration 27: All subsample scores perfect. Skipping.\n",
      "Iteration 27: Reflective mutation did not propose a new candidate\n",
      "Iteration 28: Selected program 2 score: 0.8\n",
      "Average Metric: 3.00 / 3 (100.0%): 100%|█████████████████████████████████████████████████████████████████████████████████████████████| 3/3 [00:00<00:00, 550.17it/s]"
     ]
    },
    {
     "name": "stderr",
     "output_type": "stream",
     "text": [
      "2025/08/27 05:08:08 INFO dspy.evaluate.evaluate: Average Metric: 3.0 / 3 (100.0%)\n"
     ]
    },
    {
     "name": "stdout",
     "output_type": "stream",
     "text": [
      "\n",
      "Iteration 28: All subsample scores perfect. Skipping.\n",
      "Iteration 28: Reflective mutation did not propose a new candidate\n",
      "Iteration 29: Selected program 2 score: 0.8\n",
      "Average Metric: 2.00 / 3 (66.7%): 100%|██████████████████████████████████████████████████████████████████████████████████████████████| 3/3 [00:00<00:00, 491.81it/s]"
     ]
    },
    {
     "name": "stderr",
     "output_type": "stream",
     "text": [
      "2025/08/27 05:08:08 INFO dspy.evaluate.evaluate: Average Metric: 2.0 / 3 (66.7%)\n"
     ]
    },
    {
     "name": "stdout",
     "output_type": "stream",
     "text": [
      "\n",
      "Iteration 29: Proposed new text for program: from typing import Optional\n",
      "import dspy\n",
      "\n",
      "class MathWordProblemSignature(dspy.Signature):\n",
      "    \"\"\"\n",
      "    Solve the given math word problem step by step, showing clear, detailed reasoning in the reasoning field. In the answer field, provide ONLY the final answer, in the simplest form, with no explanation, no units, and no restatement of the question. If the answer is a fraction, use LaTeX format (e.g., \\\\frac{a}{b}); if an interval, use standard interval notation (e.g., [0,1)); if a probability, use the simplest exact form.\n",
      "    \"\"\"\n",
      "    question = dspy.InputField(desc=\"A math word problem to solve.\")\n",
      "    reasoning = dspy.OutputField(desc=\"Step-by-step solution with equations, logical steps, and explanations. Show all work.\")\n",
      "    answer: str = dspy.OutputField(desc=\"Final answer ONLY, in the simplest form, with no explanation or restatement. Use LaTeX for fractions, interval notation for intervals, and exact values for probabilities.\")\n",
      "\n",
      "class MathWordProblemFinalAnswer(dspy.Signature):\n",
      "    \"\"\"\n",
      "    Given a math word problem and a detailed step-by-step solution, extract ONLY the final answer in the simplest form, with no explanation, no units, and no restatement of the question. If the answer is a fraction, use LaTeX format (e.g., \\\\frac{a}{b}); if an interval, use standard interval notation (e.g., [0,1)); if a probability, use the simplest exact form.\n",
      "    \"\"\"\n",
      "    question = dspy.InputField(desc=\"A math word problem.\")\n",
      "    reasoning = dspy.InputField(desc=\"A detailed step-by-step solution to the problem.\")\n",
      "    answer: str = dspy.OutputField(desc=\"Final answer ONLY, in the simplest form, with no explanation or restatement. Use LaTeX for fractions, interval notation for intervals, and exact values for probabilities.\")\n",
      "\n",
      "class MathWordProblemModule(dspy.Module):\n",
      "    def __init__(self):\n",
      "        super().__init__()\n",
      "        self.reasoning_generator = dspy.ChainOfThought(\n",
      "            \"question -> reasoning\"\n",
      "        )\n",
      "        self.answer_extractor = dspy.Predict(MathWordProblemFinalAnswer)\n",
      "\n",
      "    def forward(self, question):\n",
      "        reasoning_pred = self.reasoning_generator(question=question)\n",
      "        answer_pred = self.answer_extractor(\n",
      "            question=question,\n",
      "            reasoning=reasoning_pred.reasoning\n",
      "        )\n",
      "        return dspy.Prediction(\n",
      "            reasoning=reasoning_pred.reasoning,\n",
      "            answer=answer_pred.answer\n",
      "        )\n",
      "\n",
      "program = MathWordProblemModule()\n"
     ]
    },
    {
     "name": "stderr",
     "output_type": "stream",
     "text": [
      "2025/08/27 05:08:08 INFO dspy.evaluate.evaluate: Average Metric: 3.0 / 3 (100.0%)\n",
      "2025/08/27 05:08:09 INFO dspy.evaluate.evaluate: Average Metric: 46.0 / 50 (92.0%)\n",
      "GEPA Optimization:  76%|███████████████████████████████████████████████████████████████████████████▊                        | 379/500 [00:25<00:08, 13.47rollouts/s]"
     ]
    },
    {
     "name": "stdout",
     "output_type": "stream",
     "text": [
      "Iteration 29: New program is on the linear pareto front\n",
      "Iteration 29: Full valset score for new program: 0.92\n",
      "Iteration 29: Full train_val score for new program: 0.92\n",
      "Iteration 29: Individual valset scores for new program: [True, True, True, True, True, True, True, True, True, True, True, True, True, True, True, True, True, True, True, True, True, False, True, True, False, True, True, True, True, True, True, True, True, True, True, True, True, True, True, True, True, True, True, True, True, False, True, True, True, False]\n",
      "Iteration 29: New valset pareto front scores: [True, True, True, True, True, True, True, True, True, True, True, True, True, True, True, True, True, True, True, True, True, False, True, True, False, True, True, True, True, True, True, True, True, True, True, True, True, True, True, True, True, True, True, True, True, False, True, True, True, False]\n",
      "Iteration 29: Full valset pareto front score: 0.92\n",
      "Iteration 29: Updated valset pareto front programs: [{0, 1, 2, 3, 4}, {2, 4}, {0, 1, 2, 3, 4}, {0, 1, 2, 3, 4}, {0, 1, 2, 3, 4}, {4}, {4}, {0, 1, 2, 3, 4}, {0, 1, 2, 3, 4}, {0, 1, 2, 3, 4}, {0, 1, 2, 3, 4}, {0, 1, 2, 3, 4}, {0, 2, 3, 4}, {0, 2, 3, 4}, {0, 1, 2, 3, 4}, {0, 1, 2, 3, 4}, {3, 4}, {0, 1, 2, 3, 4}, {0, 1, 2, 3, 4}, {0, 1, 2, 3, 4}, {0, 2, 4}, {0, 1, 2, 3, 4}, {1, 2, 3, 4}, {2, 3, 4}, {0, 1, 2, 3, 4}, {0, 1, 2, 3, 4}, {4}, {0, 1, 2, 3, 4}, {0, 1, 2, 3, 4}, {4}, {0, 1, 2, 3, 4}, {0, 1, 2, 3, 4}, {0, 1, 2, 3, 4}, {0, 1, 2, 3, 4}, {0, 1, 2, 3, 4}, {2, 4}, {0, 1, 2, 3, 4}, {0, 2, 3, 4}, {0, 2, 3, 4}, {1, 2, 3, 4}, {0, 1, 2, 4}, {0, 1, 2, 3, 4}, {0, 1, 2, 3, 4}, {0, 1, 2, 3, 4}, {4}, {0, 1, 2, 3, 4}, {0, 1, 2, 3, 4}, {2, 4}, {0, 1, 2, 3, 4}, {0, 1, 2, 3, 4}]\n",
      "Iteration 29: Best valset aggregate score so far: 0.92\n",
      "Iteration 29: Best program as per aggregate score on train_val: 4\n",
      "Iteration 29: Best program as per aggregate score on valset: 4\n",
      "Iteration 29: Best score on valset: 0.92\n",
      "Iteration 29: Best score on train_val: 0.92\n",
      "Iteration 29: Linear pareto front program index: 4\n",
      "Iteration 29: New program candidate index: 4\n",
      "Iteration 30: Selected program 4 score: 0.92\n",
      "Average Metric: 3.00 / 3 (100.0%): 100%|█████████████████████████████████████████████████████████████████████████████████████████████| 3/3 [00:00<00:00, 116.73it/s]"
     ]
    },
    {
     "name": "stderr",
     "output_type": "stream",
     "text": [
      "2025/08/27 05:08:09 INFO dspy.evaluate.evaluate: Average Metric: 3.0 / 3 (100.0%)\n"
     ]
    },
    {
     "name": "stdout",
     "output_type": "stream",
     "text": [
      "\n",
      "Iteration 30: All subsample scores perfect. Skipping.\n",
      "Iteration 30: Reflective mutation did not propose a new candidate\n",
      "Iteration 31: Selected program 4 score: 0.92\n",
      "Average Metric: 3.00 / 3 (100.0%): 100%|█████████████████████████████████████████████████████████████████████████████████████████████| 3/3 [00:00<00:00, 113.28it/s]"
     ]
    },
    {
     "name": "stderr",
     "output_type": "stream",
     "text": [
      "2025/08/27 05:08:09 INFO dspy.evaluate.evaluate: Average Metric: 3.0 / 3 (100.0%)\n"
     ]
    },
    {
     "name": "stdout",
     "output_type": "stream",
     "text": [
      "\n",
      "Iteration 31: All subsample scores perfect. Skipping.\n",
      "Iteration 31: Reflective mutation did not propose a new candidate\n",
      "Iteration 32: Selected program 4 score: 0.92\n",
      "Average Metric: 2.00 / 3 (66.7%): 100%|██████████████████████████████████████████████████████████████████████████████████████████████| 3/3 [00:00<00:00, 119.83it/s]"
     ]
    },
    {
     "name": "stderr",
     "output_type": "stream",
     "text": [
      "2025/08/27 05:08:09 INFO dspy.evaluate.evaluate: Average Metric: 2.0 / 3 (66.7%)\n",
      "2025/08/27 05:08:09 INFO dspy.evaluate.evaluate: Average Metric: 2.0 / 3 (66.7%)\n"
     ]
    },
    {
     "name": "stdout",
     "output_type": "stream",
     "text": [
      "\n",
      "Iteration 32: Proposed new text for program: import dspy\n",
      "from typing import Optional\n",
      "\n",
      "class MathWordProblemSignature(dspy.Signature):\n",
      "    \"\"\"\n",
      "    Solve the given math word problem step by step, showing clear, detailed reasoning in the reasoning field. In the answer field, provide ONLY the final answer, in the simplest form, with no explanation, no units, and no restatement of the question. If the answer is a fraction, use LaTeX format (e.g., \\\\frac{a}{b}); if an interval, use standard interval notation (e.g., [0,1)); if a probability, use the simplest exact form.\n",
      "    \"\"\"\n",
      "    question = dspy.InputField(desc=\"A math word problem to solve.\")\n",
      "    reasoning = dspy.OutputField(desc=\"Step-by-step solution with equations, logical steps, and explanations. Show all work.\")\n",
      "    answer: str = dspy.OutputField(desc=\"Final answer ONLY, in the simplest form, with no explanation or restatement. Use LaTeX for fractions, interval notation for intervals, and exact values for probabilities.\")\n",
      "\n",
      "class MathWordProblemReasoning(dspy.Signature):\n",
      "    \"\"\"\n",
      "    Given a math word problem, write a detailed, step-by-step solution. Show all work, equations, and logical steps. Do NOT state the final answer in the last sentence; instead, end with a clear boxed or bolded answer statement, e.g., 'Thus, the answer is ...' or '\\\\boxed{...}'.\n",
      "    \"\"\"\n",
      "    question = dspy.InputField(desc=\"A math word problem.\")\n",
      "    reasoning = dspy.OutputField(desc=\"Step-by-step solution with equations, logical steps, and explanations. End with a clear boxed or bolded answer statement, e.g., '\\\\boxed{...}'.\")\n",
      "\n",
      "class MathWordProblemFinalAnswer(dspy.Signature):\n",
      "    \"\"\"\n",
      "    Given a math word problem and a detailed step-by-step solution, extract ONLY the final answer in the simplest form, with no explanation, no units, and no restatement of the question. If the answer is a fraction, use LaTeX format (e.g., \\\\frac{a}{b}); if an interval, use standard interval notation (e.g., [0,1)); if a probability, use the simplest exact form. If the answer is boxed or bolded in the reasoning, extract that value.\n",
      "    \"\"\"\n",
      "    question = dspy.InputField(desc=\"A math word problem.\")\n",
      "    reasoning = dspy.InputField(desc=\"A detailed step-by-step solution to the problem, ending with a boxed or bolded answer statement.\")\n",
      "    answer: str = dspy.OutputField(desc=\"Final answer ONLY, in the simplest form, with no explanation or restatement. Use LaTeX for fractions, interval notation for intervals, and exact values for probabilities.\")\n",
      "\n",
      "class MathWordProblemModule(dspy.Module):\n",
      "    def __init__(self):\n",
      "        super().__init__()\n",
      "        # Use a more guided signature for reasoning, and force answer extraction from boxed/bolded answer\n",
      "        self.reasoning_generator = dspy.Predict(MathWordProblemReasoning)\n",
      "        self.answer_extractor = dspy.Predict(MathWordProblemFinalAnswer)\n",
      "\n",
      "    def forward(self, question):\n",
      "        reasoning_pred = self.reasoning_generator(question=question)\n",
      "        answer_pred = self.answer_extractor(\n",
      "            question=question,\n",
      "            reasoning=reasoning_pred.reasoning\n",
      "        )\n",
      "        return dspy.Prediction(\n",
      "            reasoning=reasoning_pred.reasoning,\n",
      "            answer=answer_pred.answer\n",
      "        )\n",
      "\n",
      "program = MathWordProblemModule()\n",
      "Iteration 32: New subsample score is not better, skipping\n",
      "Iteration 33: Selected program 4 score: 0.92\n",
      "Average Metric: 2.00 / 3 (66.7%): 100%|██████████████████████████████████████████████████████████████████████████████████████████████| 3/3 [00:00<00:00, 119.98it/s]"
     ]
    },
    {
     "name": "stderr",
     "output_type": "stream",
     "text": [
      "2025/08/27 05:08:09 INFO dspy.evaluate.evaluate: Average Metric: 2.0 / 3 (66.7%)\n",
      "2025/08/27 05:08:09 INFO dspy.evaluate.evaluate: Average Metric: 2.0 / 3 (66.7%)\n"
     ]
    },
    {
     "name": "stdout",
     "output_type": "stream",
     "text": [
      "\n",
      "Iteration 33: Proposed new text for program: from typing import Optional\n",
      "import dspy\n",
      "\n",
      "class MathWordProblemSignature(dspy.Signature):\n",
      "    \"\"\"\n",
      "    Solve the given math word problem step by step, showing clear, detailed reasoning in the reasoning field. In the answer field, provide ONLY the final answer, in the simplest form, with no explanation, no units, and no restatement of the question. If the answer is a fraction, use LaTeX format (e.g., \\\\frac{a}{b}); if an interval, use standard interval notation (e.g., [0,1)); if a probability, use the simplest exact form.\n",
      "    \"\"\"\n",
      "    question = dspy.InputField(desc=\"A math word problem to solve.\")\n",
      "    reasoning = dspy.OutputField(desc=\"Step-by-step solution with equations, logical steps, and explanations. Show all work.\")\n",
      "    answer: str = dspy.OutputField(desc=\"Final answer ONLY, in the simplest form, with no explanation or restatement. Use LaTeX for fractions, interval notation for intervals, and exact values for probabilities.\")\n",
      "\n",
      "class MathWordProblemModule(dspy.Module):\n",
      "    def __init__(self):\n",
      "        super().__init__()\n",
      "        # Use a single ChainOfThought to generate both reasoning and answer in one LM call.\n",
      "        self.cot = dspy.ChainOfThought(MathWordProblemSignature)\n",
      "\n",
      "    def forward(self, question):\n",
      "        pred = self.cot(question=question)\n",
      "        # Post-process: Strip whitespace and ensure answer is a single token/line, if possible.\n",
      "        answer = pred.answer.strip() if hasattr(pred, \"answer\") and pred.answer is not None else \"\"\n",
      "        reasoning = pred.reasoning.strip() if hasattr(pred, \"reasoning\") and pred.reasoning is not None else \"\"\n",
      "        return dspy.Prediction(\n",
      "            reasoning=reasoning,\n",
      "            answer=answer\n",
      "        )\n",
      "\n",
      "program = MathWordProblemModule()\n",
      "Iteration 33: New subsample score is not better, skipping\n",
      "Iteration 34: Selected program 4 score: 0.92\n",
      "Average Metric: 3.00 / 3 (100.0%): 100%|█████████████████████████████████████████████████████████████████████████████████████████████| 3/3 [00:00<00:00, 116.24it/s]"
     ]
    },
    {
     "name": "stderr",
     "output_type": "stream",
     "text": [
      "2025/08/27 05:08:09 INFO dspy.evaluate.evaluate: Average Metric: 3.0 / 3 (100.0%)\n"
     ]
    },
    {
     "name": "stdout",
     "output_type": "stream",
     "text": [
      "\n",
      "Iteration 34: All subsample scores perfect. Skipping.\n",
      "Iteration 34: Reflective mutation did not propose a new candidate\n",
      "Iteration 35: Selected program 4 score: 0.92\n",
      "Average Metric: 3.00 / 3 (100.0%): 100%|█████████████████████████████████████████████████████████████████████████████████████████████| 3/3 [00:00<00:00, 114.05it/s]"
     ]
    },
    {
     "name": "stderr",
     "output_type": "stream",
     "text": [
      "2025/08/27 05:08:09 INFO dspy.evaluate.evaluate: Average Metric: 3.0 / 3 (100.0%)\n"
     ]
    },
    {
     "name": "stdout",
     "output_type": "stream",
     "text": [
      "\n",
      "Iteration 35: All subsample scores perfect. Skipping.\n",
      "Iteration 35: Reflective mutation did not propose a new candidate\n",
      "Iteration 36: Selected program 4 score: 0.92\n",
      "Average Metric: 3.00 / 3 (100.0%): 100%|█████████████████████████████████████████████████████████████████████████████████████████████| 3/3 [00:00<00:00, 115.72it/s]"
     ]
    },
    {
     "name": "stderr",
     "output_type": "stream",
     "text": [
      "2025/08/27 05:08:09 INFO dspy.evaluate.evaluate: Average Metric: 3.0 / 3 (100.0%)\n"
     ]
    },
    {
     "name": "stdout",
     "output_type": "stream",
     "text": [
      "\n",
      "Iteration 36: All subsample scores perfect. Skipping.\n",
      "Iteration 36: Reflective mutation did not propose a new candidate\n",
      "Iteration 37: Selected program 4 score: 0.92\n",
      "Average Metric: 3.00 / 3 (100.0%): 100%|█████████████████████████████████████████████████████████████████████████████████████████████| 3/3 [00:00<00:00, 127.38it/s]"
     ]
    },
    {
     "name": "stderr",
     "output_type": "stream",
     "text": [
      "2025/08/27 05:08:09 INFO dspy.evaluate.evaluate: Average Metric: 3.0 / 3 (100.0%)\n"
     ]
    },
    {
     "name": "stdout",
     "output_type": "stream",
     "text": [
      "\n",
      "Iteration 37: All subsample scores perfect. Skipping.\n",
      "Iteration 37: Reflective mutation did not propose a new candidate\n",
      "Iteration 38: Selected program 4 score: 0.92\n",
      "Average Metric: 3.00 / 3 (100.0%): 100%|█████████████████████████████████████████████████████████████████████████████████████████████| 3/3 [00:00<00:00, 121.34it/s]"
     ]
    },
    {
     "name": "stderr",
     "output_type": "stream",
     "text": [
      "2025/08/27 05:08:09 INFO dspy.evaluate.evaluate: Average Metric: 3.0 / 3 (100.0%)\n",
      "GEPA Optimization:  82%|██████████████████████████████████████████████████████████████████████████████████▍                 | 412/500 [00:25<00:05, 16.62rollouts/s]"
     ]
    },
    {
     "name": "stdout",
     "output_type": "stream",
     "text": [
      "\n",
      "Iteration 38: All subsample scores perfect. Skipping.\n",
      "Iteration 38: Reflective mutation did not propose a new candidate\n",
      "Iteration 39: Selected program 4 score: 0.92\n",
      "Average Metric: 3.00 / 3 (100.0%): 100%|█████████████████████████████████████████████████████████████████████████████████████████████| 3/3 [00:00<00:00, 112.93it/s]"
     ]
    },
    {
     "name": "stderr",
     "output_type": "stream",
     "text": [
      "2025/08/27 05:08:09 INFO dspy.evaluate.evaluate: Average Metric: 3.0 / 3 (100.0%)\n"
     ]
    },
    {
     "name": "stdout",
     "output_type": "stream",
     "text": [
      "\n",
      "Iteration 39: All subsample scores perfect. Skipping.\n",
      "Iteration 39: Reflective mutation did not propose a new candidate\n",
      "Iteration 40: Selected program 4 score: 0.92\n",
      "Average Metric: 2.00 / 3 (66.7%): 100%|██████████████████████████████████████████████████████████████████████████████████████████████| 3/3 [00:00<00:00, 117.59it/s]"
     ]
    },
    {
     "name": "stderr",
     "output_type": "stream",
     "text": [
      "2025/08/27 05:08:09 INFO dspy.evaluate.evaluate: Average Metric: 2.0 / 3 (66.7%)\n"
     ]
    },
    {
     "name": "stdout",
     "output_type": "stream",
     "text": [
      "\n",
      "Iteration 40: Proposed new text for program: from typing import Optional\n",
      "import dspy\n",
      "\n",
      "class MathWordProblemSignature(dspy.Signature):\n",
      "    \"\"\"\n",
      "    Solve the given math word problem step by step, showing clear, detailed reasoning in the reasoning field. In the answer field, provide ONLY the final answer, in the simplest form, with no explanation, no units, and no restatement of the question. If the answer is a fraction, use LaTeX format (e.g., \\\\frac{a}{b}); if an interval, use standard interval notation (e.g., [0,1)); if a probability, use the simplest exact form.\n",
      "    \"\"\"\n",
      "    question = dspy.InputField(desc=\"A math word problem to solve.\")\n",
      "    reasoning = dspy.OutputField(desc=\"Step-by-step solution with equations, logical steps, and explanations. Show all work.\")\n",
      "    answer: str = dspy.OutputField(desc=\"Final answer ONLY, in the simplest form, with no explanation or restatement. Use LaTeX for fractions, interval notation for intervals, and exact values for probabilities.\")\n",
      "\n",
      "class MathWordProblemFinalAnswer(dspy.Signature):\n",
      "    \"\"\"\n",
      "    Given a math word problem and a detailed step-by-step solution, extract ONLY the final answer in the simplest form, with no explanation, no units, and no restatement of the question. If the answer is a fraction, use LaTeX format (e.g., \\\\frac{a}{b}); if an interval, use standard interval notation (e.g., [0,1)); if a probability, use the simplest exact form.\n",
      "    \"\"\"\n",
      "    question = dspy.InputField(desc=\"A math word problem.\")\n",
      "    reasoning = dspy.InputField(desc=\"A detailed step-by-step solution to the problem.\")\n",
      "    answer: str = dspy.OutputField(desc=\"Final answer ONLY, in the simplest form, with no explanation or restatement. Use LaTeX for fractions, interval notation for intervals, and exact values for probabilities.\")\n",
      "\n",
      "class MathWordProblemReasoning(dspy.Signature):\n",
      "    \"\"\"\n",
      "    Solve the given math word problem step by step, showing clear, detailed reasoning in the reasoning field. Do NOT include the final answer or any summary statement; only show the step-by-step solution, equations, logical steps, and explanations. Show all work.\n",
      "    \"\"\"\n",
      "    question = dspy.InputField(desc=\"A math word problem to solve.\")\n",
      "    reasoning = dspy.OutputField(desc=\"Step-by-step solution with equations, logical steps, and explanations. Do NOT include the final answer or any summary statement.\")\n",
      "\n",
      "class MathWordProblemModule(dspy.Module):\n",
      "    def __init__(self):\n",
      "        super().__init__()\n",
      "        # First, generate only the reasoning, without the final answer\n",
      "        self.reasoning_generator = dspy.ChainOfThought(MathWordProblemReasoning)\n",
      "        # Then, extract the answer from the reasoning and question\n",
      "        self.answer_extractor = dspy.Predict(MathWordProblemFinalAnswer)\n",
      "\n",
      "    def forward(self, question):\n",
      "        # Generate step-by-step reasoning only (no answer)\n",
      "        reasoning_pred = self.reasoning_generator(question=question)\n",
      "        # Extract the answer from the reasoning and question\n",
      "        answer_pred = self.answer_extractor(\n",
      "            question=question,\n",
      "            reasoning=reasoning_pred.reasoning\n",
      "        )\n",
      "        return dspy.Prediction(\n",
      "            reasoning=reasoning_pred.reasoning,\n",
      "            answer=answer_pred.answer\n",
      "        )\n",
      "\n",
      "program = MathWordProblemModule()\n"
     ]
    },
    {
     "name": "stderr",
     "output_type": "stream",
     "text": [
      "2025/08/27 05:08:09 INFO dspy.evaluate.evaluate: Average Metric: 2.0 / 3 (66.7%)\n"
     ]
    },
    {
     "name": "stdout",
     "output_type": "stream",
     "text": [
      "Iteration 40: New subsample score is not better, skipping\n",
      "Iteration 41: Selected program 4 score: 0.92\n",
      "Average Metric: 3.00 / 3 (100.0%): 100%|█████████████████████████████████████████████████████████████████████████████████████████████| 3/3 [00:00<00:00, 111.66it/s]"
     ]
    },
    {
     "name": "stderr",
     "output_type": "stream",
     "text": [
      "2025/08/27 05:08:09 INFO dspy.evaluate.evaluate: Average Metric: 3.0 / 3 (100.0%)\n"
     ]
    },
    {
     "name": "stdout",
     "output_type": "stream",
     "text": [
      "\n",
      "Iteration 41: All subsample scores perfect. Skipping.\n",
      "Iteration 41: Reflective mutation did not propose a new candidate\n",
      "Iteration 42: Selected program 4 score: 0.92\n",
      "Average Metric: 2.00 / 3 (66.7%): 100%|██████████████████████████████████████████████████████████████████████████████████████████████| 3/3 [00:00<00:00, 118.29it/s]"
     ]
    },
    {
     "name": "stderr",
     "output_type": "stream",
     "text": [
      "2025/08/27 05:08:09 INFO dspy.evaluate.evaluate: Average Metric: 2.0 / 3 (66.7%)\n"
     ]
    },
    {
     "name": "stdout",
     "output_type": "stream",
     "text": [
      "\n",
      "Iteration 42: Proposed new text for program: from typing import Optional\n",
      "import dspy\n",
      "\n",
      "class MathWordProblemSignature(dspy.Signature):\n",
      "    \"\"\"\n",
      "    Solve the given math word problem step by step, showing clear, detailed reasoning in the reasoning field. In the answer field, provide ONLY the final answer, in the simplest form, with no explanation, no units, and no restatement of the question. If the answer is a fraction, use LaTeX format (e.g., \\\\frac{a}{b}); if an interval, use standard interval notation (e.g., [0,1)); if a probability, use the simplest exact form. If the answer should be a decimal to a certain precision, follow the instructions in the question.\n",
      "    \"\"\"\n",
      "    question = dspy.InputField(desc=\"A math word problem to solve.\")\n",
      "    reasoning = dspy.OutputField(desc=\"Step-by-step solution with equations, logical steps, and explanations. Show all work.\")\n",
      "    answer: str = dspy.OutputField(desc=\"Final answer ONLY, in the simplest form, with no explanation or restatement. Use LaTeX for fractions, interval notation for intervals, and exact values for probabilities. If the question requests a decimal, follow the requested precision.\")\n",
      "\n",
      "class MathWordProblemFinalAnswer(dspy.Signature):\n",
      "    \"\"\"\n",
      "    Given a math word problem and a detailed step-by-step solution, extract ONLY the final answer in the simplest form, with no explanation, no units, and no restatement of the question. If the answer is a fraction, use LaTeX format (e.g., \\\\frac{a}{b}); if an interval, use standard interval notation (e.g., [0,1)); if a probability, use the simplest exact form. If the answer should be a decimal to a certain precision, follow the instructions in the question.\n",
      "    \"\"\"\n",
      "    question = dspy.InputField(desc=\"A math word problem.\")\n",
      "    reasoning = dspy.InputField(desc=\"A detailed step-by-step solution to the problem.\")\n",
      "    answer: str = dspy.OutputField(desc=\"Final answer ONLY, in the simplest form, with no explanation or restatement. Use LaTeX for fractions, interval notation for intervals, and exact values for probabilities. If the question requests a decimal, follow the requested precision.\")\n",
      "\n",
      "class MathWordProblemReasoning(dspy.Signature):\n",
      "    \"\"\"\n",
      "    Given a math word problem, write a detailed, step-by-step solution, showing all work, equations, and logical steps. Do NOT include the final answer as a standalone statement or in a box; just end with the calculation that yields the answer.\n",
      "    \"\"\"\n",
      "    question = dspy.InputField(desc=\"A math word problem to solve.\")\n",
      "    reasoning = dspy.OutputField(desc=\"Step-by-step solution with equations, logical steps, and explanations. Show all work, but do NOT state the final answer as a standalone statement.\")\n",
      "\n",
      "class MathWordProblemModule(dspy.Module):\n",
      "    def __init__(self):\n",
      "        super().__init__()\n",
      "        # First, generate detailed reasoning (without final answer boxed or restated)\n",
      "        self.reasoning_generator = dspy.ChainOfThought(MathWordProblemReasoning)\n",
      "        # Then, extract the final answer precisely, following all formatting rules\n",
      "        self.answer_extractor = dspy.Predict(MathWordProblemFinalAnswer)\n",
      "\n",
      "    def forward(self, question):\n",
      "        reasoning_pred = self.reasoning_generator(question=question)\n",
      "        answer_pred = self.answer_extractor(\n",
      "            question=question,\n",
      "            reasoning=reasoning_pred.reasoning\n",
      "        )\n",
      "        return dspy.Prediction(\n",
      "            reasoning=reasoning_pred.reasoning,\n",
      "            answer=answer_pred.answer\n",
      "        )\n",
      "\n",
      "program = MathWordProblemModule()\n"
     ]
    },
    {
     "name": "stderr",
     "output_type": "stream",
     "text": [
      "2025/08/27 05:08:09 INFO dspy.evaluate.evaluate: Average Metric: 2.0 / 3 (66.7%)\n"
     ]
    },
    {
     "name": "stdout",
     "output_type": "stream",
     "text": [
      "Iteration 42: New subsample score is not better, skipping\n",
      "Iteration 43: Selected program 4 score: 0.92\n",
      "Average Metric: 2.00 / 3 (66.7%): 100%|███████████████████████████████████████████████████████████████████████████████████████████████| 3/3 [00:00<00:00, 96.09it/s]"
     ]
    },
    {
     "name": "stderr",
     "output_type": "stream",
     "text": [
      "2025/08/27 05:08:09 INFO dspy.evaluate.evaluate: Average Metric: 2.0 / 3 (66.7%)\n"
     ]
    },
    {
     "name": "stdout",
     "output_type": "stream",
     "text": [
      "\n",
      "Iteration 43: Proposed new text for program: from typing import Optional\n",
      "import dspy\n",
      "\n",
      "class MathWordProblemSignature(dspy.Signature):\n",
      "    \"\"\"\n",
      "    Solve the given math word problem step by step, showing clear, detailed reasoning in the reasoning field. In the answer field, provide ONLY the final answer, in the simplest form, with no explanation, no units, and no restatement of the question. If the answer is a fraction, use LaTeX format (e.g., \\\\frac{a}{b}); if an interval, use standard interval notation (e.g., [0,1)); if a probability, use the simplest exact form.\n",
      "    \"\"\"\n",
      "    question = dspy.InputField(desc=\"A math word problem to solve.\")\n",
      "    reasoning = dspy.OutputField(desc=\"Step-by-step solution with equations, logical steps, and explanations. Show all work.\")\n",
      "    answer: str = dspy.OutputField(desc=\"Final answer ONLY, in the simplest form, with no explanation or restatement. Use LaTeX for fractions, interval notation for intervals, and exact values for probabilities.\")\n",
      "\n",
      "class MathWordProblemFinalAnswer(dspy.Signature):\n",
      "    \"\"\"\n",
      "    Given a math word problem and a detailed step-by-step solution, extract ONLY the final answer in the simplest form, with no explanation, no units, and no restatement of the question. If the answer is a fraction, use LaTeX format (e.g., \\\\frac{a}{b}); if an interval, use standard interval notation (e.g., [0,1)); if a probability, use the simplest exact form.\n",
      "    \"\"\"\n",
      "    question = dspy.InputField(desc=\"A math word problem.\")\n",
      "    reasoning = dspy.InputField(desc=\"A detailed step-by-step solution to the problem.\")\n",
      "    answer: str = dspy.OutputField(desc=\"Final answer ONLY, in the simplest form, with no explanation or restatement. Use LaTeX for fractions, interval notation for intervals, and exact values for probabilities.\")\n",
      "\n",
      "class MathWordProblemReasoning(dspy.Signature):\n",
      "    \"\"\"\n",
      "    Solve the given math word problem step by step, showing clear, detailed reasoning in the reasoning field. Do NOT include the final answer or any summary statement in the reasoning; stop before stating the final answer. Show all work, equations, and logical steps.\n",
      "    \"\"\"\n",
      "    question = dspy.InputField(desc=\"A math word problem to solve.\")\n",
      "    reasoning = dspy.OutputField(desc=\"Step-by-step solution with equations, logical steps, and explanations. Do NOT include the final answer or any summary statement; stop before stating the final answer.\")\n",
      "\n",
      "class MathWordProblemModule(dspy.Module):\n",
      "    def __init__(self):\n",
      "        super().__init__()\n",
      "        # First, generate reasoning only (no answer or summary)\n",
      "        self.reasoning_generator = dspy.ChainOfThought(MathWordProblemReasoning)\n",
      "        # Then, extract the answer from the question and reasoning\n",
      "        self.answer_extractor = dspy.Predict(MathWordProblemFinalAnswer)\n",
      "\n",
      "    def forward(self, question):\n",
      "        reasoning_pred = self.reasoning_generator(question=question)\n",
      "        answer_pred = self.answer_extractor(\n",
      "            question=question,\n",
      "            reasoning=reasoning_pred.reasoning\n",
      "        )\n",
      "        return dspy.Prediction(\n",
      "            reasoning=reasoning_pred.reasoning,\n",
      "            answer=answer_pred.answer\n",
      "        )\n",
      "\n",
      "program = MathWordProblemModule()\n"
     ]
    },
    {
     "name": "stderr",
     "output_type": "stream",
     "text": [
      "2025/08/27 05:08:09 INFO dspy.evaluate.evaluate: Average Metric: 2.0 / 3 (66.7%)\n",
      "GEPA Optimization:  87%|███████████████████████████████████████████████████████████████████████████████████████▏            | 436/500 [00:26<00:03, 19.49rollouts/s]"
     ]
    },
    {
     "name": "stdout",
     "output_type": "stream",
     "text": [
      "Iteration 43: New subsample score is not better, skipping\n",
      "Iteration 44: Selected program 4 score: 0.92\n",
      "Average Metric: 3.00 / 3 (100.0%): 100%|█████████████████████████████████████████████████████████████████████████████████████████████| 3/3 [00:00<00:00, 155.97it/s]"
     ]
    },
    {
     "name": "stderr",
     "output_type": "stream",
     "text": [
      "2025/08/27 05:08:09 INFO dspy.evaluate.evaluate: Average Metric: 3.0 / 3 (100.0%)\n"
     ]
    },
    {
     "name": "stdout",
     "output_type": "stream",
     "text": [
      "\n",
      "Iteration 44: All subsample scores perfect. Skipping.\n",
      "Iteration 44: Reflective mutation did not propose a new candidate\n",
      "Iteration 45: Selected program 4 score: 0.92\n",
      "Average Metric: 3.00 / 3 (100.0%): 100%|█████████████████████████████████████████████████████████████████████████████████████████████| 3/3 [00:00<00:00, 113.10it/s]"
     ]
    },
    {
     "name": "stderr",
     "output_type": "stream",
     "text": [
      "2025/08/27 05:08:09 INFO dspy.evaluate.evaluate: Average Metric: 3.0 / 3 (100.0%)\n"
     ]
    },
    {
     "name": "stdout",
     "output_type": "stream",
     "text": [
      "\n",
      "Iteration 45: All subsample scores perfect. Skipping.\n",
      "Iteration 45: Reflective mutation did not propose a new candidate\n",
      "Iteration 46: Selected program 4 score: 0.92\n",
      "Average Metric: 2.00 / 3 (66.7%): 100%|██████████████████████████████████████████████████████████████████████████████████████████████| 3/3 [00:00<00:00, 120.83it/s]"
     ]
    },
    {
     "name": "stderr",
     "output_type": "stream",
     "text": [
      "2025/08/27 05:08:09 INFO dspy.evaluate.evaluate: Average Metric: 2.0 / 3 (66.7%)\n"
     ]
    },
    {
     "name": "stdout",
     "output_type": "stream",
     "text": [
      "\n",
      "Iteration 46: Proposed new text for program: from typing import Optional\n",
      "import dspy\n",
      "\n",
      "class MathWordProblemSignature(dspy.Signature):\n",
      "    \"\"\"\n",
      "    Solve the given math word problem step by step, showing clear, detailed reasoning in the reasoning field. In the answer field, provide ONLY the final answer, in the simplest form, with no explanation, no units, and no restatement of the question. If the answer is a fraction, use LaTeX format (e.g., \\\\frac{a}{b}); if an interval, use standard interval notation (e.g., [0,1)); if a probability, use the simplest exact form.\n",
      "    \"\"\"\n",
      "    question = dspy.InputField(desc=\"A math word problem to solve.\")\n",
      "    reasoning = dspy.OutputField(desc=\"Step-by-step solution with equations, logical steps, and explanations. Show all work.\")\n",
      "    answer: str = dspy.OutputField(desc=\"Final answer ONLY, in the simplest form, with no explanation or restatement. Use LaTeX for fractions, interval notation for intervals, and exact values for probabilities.\")\n",
      "\n",
      "class MathWordProblemReasoning(dspy.Signature):\n",
      "    \"\"\"\n",
      "    Given a math word problem, provide a detailed, step-by-step solution in the reasoning field. Show all work, equations, and logical steps. Do NOT include the final answer in the reasoning; reserve the answer for a separate field.\n",
      "    \"\"\"\n",
      "    question = dspy.InputField(desc=\"A math word problem to solve.\")\n",
      "    reasoning = dspy.OutputField(desc=\"Step-by-step solution with equations, logical steps, and explanations. Do NOT include the final answer; stop before the final calculation.\")\n",
      "\n",
      "class MathWordProblemFinalAnswer(dspy.Signature):\n",
      "    \"\"\"\n",
      "    Given a math word problem and a detailed step-by-step solution, extract ONLY the final answer in the simplest form, with no explanation, no units, and no restatement of the question. If the answer is a fraction, use LaTeX format (e.g., \\\\frac{a}{b}); if an interval, use standard interval notation (e.g., [0,1)); if a probability, use the simplest exact form.\n",
      "    \"\"\"\n",
      "    question = dspy.InputField(desc=\"A math word problem.\")\n",
      "    reasoning = dspy.InputField(desc=\"A detailed step-by-step solution to the problem.\")\n",
      "    answer: str = dspy.OutputField(desc=\"Final answer ONLY, in the simplest form, with no explanation or restatement. Use LaTeX for fractions, interval notation for intervals, and exact values for probabilities.\")\n",
      "\n",
      "class MathWordProblemModule(dspy.Module):\n",
      "    def __init__(self):\n",
      "        super().__init__()\n",
      "        # Use ChainOfThought for reasoning, with explicit instruction to stop before the final answer\n",
      "        self.reasoning_generator = dspy.ChainOfThought(MathWordProblemReasoning)\n",
      "        # Use Predict for answer extraction, with both question and reasoning as context\n",
      "        self.answer_extractor = dspy.Predict(MathWordProblemFinalAnswer)\n",
      "\n",
      "    def forward(self, question):\n",
      "        reasoning_pred = self.reasoning_generator(question=question)\n",
      "        answer_pred = self.answer_extractor(\n",
      "            question=question,\n",
      "            reasoning=reasoning_pred.reasoning\n",
      "        )\n",
      "        return dspy.Prediction(\n",
      "            reasoning=reasoning_pred.reasoning,\n",
      "            answer=answer_pred.answer\n",
      "        )\n",
      "\n",
      "program = MathWordProblemModule()\n"
     ]
    },
    {
     "name": "stderr",
     "output_type": "stream",
     "text": [
      "2025/08/27 05:08:10 INFO dspy.evaluate.evaluate: Average Metric: 2.0 / 3 (66.7%)\n"
     ]
    },
    {
     "name": "stdout",
     "output_type": "stream",
     "text": [
      "Iteration 46: New subsample score is not better, skipping\n",
      "Iteration 47: Selected program 4 score: 0.92\n",
      "Average Metric: 3.00 / 3 (100.0%): 100%|█████████████████████████████████████████████████████████████████████████████████████████████| 3/3 [00:00<00:00, 109.59it/s]"
     ]
    },
    {
     "name": "stderr",
     "output_type": "stream",
     "text": [
      "2025/08/27 05:08:10 INFO dspy.evaluate.evaluate: Average Metric: 3.0 / 3 (100.0%)\n"
     ]
    },
    {
     "name": "stdout",
     "output_type": "stream",
     "text": [
      "\n",
      "Iteration 47: All subsample scores perfect. Skipping.\n",
      "Iteration 47: Reflective mutation did not propose a new candidate\n",
      "Iteration 48: Selected program 4 score: 0.92\n",
      "Average Metric: 3.00 / 3 (100.0%): 100%|█████████████████████████████████████████████████████████████████████████████████████████████| 3/3 [00:00<00:00, 116.47it/s]"
     ]
    },
    {
     "name": "stderr",
     "output_type": "stream",
     "text": [
      "2025/08/27 05:08:10 INFO dspy.evaluate.evaluate: Average Metric: 3.0 / 3 (100.0%)\n"
     ]
    },
    {
     "name": "stdout",
     "output_type": "stream",
     "text": [
      "\n",
      "Iteration 48: All subsample scores perfect. Skipping.\n",
      "Iteration 48: Reflective mutation did not propose a new candidate\n",
      "Iteration 49: Selected program 4 score: 0.92\n",
      "Average Metric: 2.00 / 3 (66.7%): 100%|██████████████████████████████████████████████████████████████████████████████████████████████| 3/3 [00:00<00:00, 121.50it/s]"
     ]
    },
    {
     "name": "stderr",
     "output_type": "stream",
     "text": [
      "2025/08/27 05:08:10 INFO dspy.evaluate.evaluate: Average Metric: 2.0 / 3 (66.7%)\n"
     ]
    },
    {
     "name": "stdout",
     "output_type": "stream",
     "text": [
      "\n",
      "Iteration 49: Proposed new text for program: from typing import Optional\n",
      "import dspy\n",
      "\n",
      "class MathWordProblemSignature(dspy.Signature):\n",
      "    \"\"\"\n",
      "    Solve the given math word problem step by step, showing clear, detailed reasoning in the reasoning field. In the answer field, provide ONLY the final answer, in the simplest form, with no explanation, no units, and no restatement of the question. If the answer is a fraction, use LaTeX format (e.g., \\\\frac{a}{b}); if an interval, use standard interval notation (e.g., [0,1)); if a probability, use the simplest exact form.\n",
      "    \"\"\"\n",
      "    question = dspy.InputField(desc=\"A math word problem to solve.\")\n",
      "    reasoning = dspy.OutputField(desc=\"Step-by-step solution with equations, logical steps, and explanations. Show all work.\")\n",
      "    answer: str = dspy.OutputField(desc=\"Final answer ONLY, in the simplest form, with no explanation or restatement. Use LaTeX for fractions, interval notation for intervals, and exact values for probabilities.\")\n",
      "\n",
      "class MathWordProblemFinalAnswer(dspy.Signature):\n",
      "    \"\"\"\n",
      "    Given a math word problem and a detailed step-by-step solution, extract ONLY the final answer in the simplest form, with no explanation, no units, and no restatement of the question. If the answer is a fraction, use LaTeX format (e.g., \\\\frac{a}{b}); if an interval, use standard interval notation (e.g., [0,1)); if a probability, use the simplest exact form.\n",
      "    \"\"\"\n",
      "    question = dspy.InputField(desc=\"A math word problem.\")\n",
      "    reasoning = dspy.InputField(desc=\"A detailed step-by-step solution to the problem.\")\n",
      "    answer: str = dspy.OutputField(desc=\"Final answer ONLY, in the simplest form, with no explanation or restatement. Use LaTeX for fractions, interval notation for intervals, and exact values for probabilities.\")\n",
      "\n",
      "class MathWordProblemModule(dspy.Module):\n",
      "    def __init__(self):\n",
      "        super().__init__()\n",
      "        # Use ChainOfThought to generate both reasoning and answer in one LM call, with explicit instructions.\n",
      "        self.reasoning_and_answer = dspy.ChainOfThought(MathWordProblemSignature)\n",
      "        # Use a more restrictive prompt for answer extraction, with explicit constraints and examples.\n",
      "        self.answer_extractor = dspy.Predict(\n",
      "            dspy.Signature.from_string(\n",
      "                \"\"\"question, reasoning -> answer: str\n",
      "                Given the math word problem and the detailed reasoning, extract ONLY the final answer in the simplest form, with no explanation, no units, and no restatement of the question. \n",
      "                - If the answer is a fraction, use LaTeX format (e.g., \\\\frac{a}{b}).\n",
      "                - If the answer is an interval, use standard interval notation (e.g., [0,1)).\n",
      "                - If the answer is a probability, use the simplest exact form.\n",
      "                - If the answer is a decimal, write it as a number (e.g., -6.5).\n",
      "                - If the answer is an integer, write it as a number (e.g., 64).\n",
      "                - Do not include any words, units, or extra text.\n",
      "                Examples:\n",
      "                Reasoning: ... Therefore, the value is 64. Answer: 64\n",
      "                Reasoning: ... The answer is \\\\frac{3}{7}. Answer: \\\\frac{3}{7}\n",
      "                Reasoning: ... The answer is [0,1). Answer: [0,1)\n",
      "                Reasoning: ... The answer is -6.5. Answer: -6.5\n",
      "                \"\"\"\n",
      "            )\n",
      "        )\n",
      "\n",
      "    def forward(self, question):\n",
      "        # Generate both reasoning and answer in one call, then re-extract answer for stricter formatting.\n",
      "        ra_pred = self.reasoning_and_answer(question=question)\n",
      "        answer_pred = self.answer_extractor(\n",
      "            question=question,\n",
      "            reasoning=ra_pred.reasoning\n",
      "        )\n",
      "        return dspy.Prediction(\n",
      "            reasoning=ra_pred.reasoning,\n",
      "            answer=answer_pred.answer.strip()\n",
      "        )\n",
      "\n",
      "program = MathWordProblemModule()\n"
     ]
    },
    {
     "name": "stderr",
     "output_type": "stream",
     "text": [
      "GEPA Optimization:  92%|████████████████████████████████████████████████████████████████████████████████████████████        | 460/500 [00:26<00:01, 23.51rollouts/s]"
     ]
    },
    {
     "name": "stdout",
     "output_type": "stream",
     "text": [
      "Iteration 49: New subsample score is not better, skipping\n",
      "Iteration 50: Selected program 4 score: 0.92\n",
      "Average Metric: 3.00 / 3 (100.0%): 100%|█████████████████████████████████████████████████████████████████████████████████████████████| 3/3 [00:00<00:00, 119.42it/s]"
     ]
    },
    {
     "name": "stderr",
     "output_type": "stream",
     "text": [
      "2025/08/27 05:08:10 INFO dspy.evaluate.evaluate: Average Metric: 3.0 / 3 (100.0%)\n"
     ]
    },
    {
     "name": "stdout",
     "output_type": "stream",
     "text": [
      "\n",
      "Iteration 50: All subsample scores perfect. Skipping.\n",
      "Iteration 50: Reflective mutation did not propose a new candidate\n",
      "Iteration 51: Selected program 4 score: 0.92\n",
      "Average Metric: 3.00 / 3 (100.0%): 100%|█████████████████████████████████████████████████████████████████████████████████████████████| 3/3 [00:00<00:00, 116.15it/s]"
     ]
    },
    {
     "name": "stderr",
     "output_type": "stream",
     "text": [
      "2025/08/27 05:08:10 INFO dspy.evaluate.evaluate: Average Metric: 3.0 / 3 (100.0%)\n"
     ]
    },
    {
     "name": "stdout",
     "output_type": "stream",
     "text": [
      "\n",
      "Iteration 51: All subsample scores perfect. Skipping.\n",
      "Iteration 51: Reflective mutation did not propose a new candidate\n",
      "Iteration 52: Selected program 4 score: 0.92\n",
      "Average Metric: 2.00 / 3 (66.7%): 100%|██████████████████████████████████████████████████████████████████████████████████████████████| 3/3 [00:00<00:00, 116.09it/s]"
     ]
    },
    {
     "name": "stderr",
     "output_type": "stream",
     "text": [
      "2025/08/27 05:08:10 INFO dspy.evaluate.evaluate: Average Metric: 2.0 / 3 (66.7%)\n"
     ]
    },
    {
     "name": "stdout",
     "output_type": "stream",
     "text": [
      "\n",
      "Iteration 52: Proposed new text for program: from typing import Optional\n",
      "import dspy\n",
      "\n",
      "class MathWordProblemSignature(dspy.Signature):\n",
      "    \"\"\"\n",
      "    Solve the given math word problem step by step, showing clear, detailed reasoning in the reasoning field. In the answer field, provide ONLY the final answer, in the simplest form, with no explanation, no units, and no restatement of the question. If the answer is a fraction, use LaTeX format (e.g., \\\\frac{a}{b}); if an interval, use standard interval notation (e.g., [0,1)); if a probability, use the simplest exact form.\n",
      "    \"\"\"\n",
      "    question = dspy.InputField(desc=\"A math word problem to solve.\")\n",
      "    reasoning = dspy.OutputField(desc=\"Step-by-step solution with equations, logical steps, and explanations. Show all work.\")\n",
      "    answer: str = dspy.OutputField(desc=\"Final answer ONLY, in the simplest form, with no explanation or restatement. Use LaTeX for fractions, interval notation for intervals, and exact values for probabilities.\")\n",
      "\n",
      "class MathWordProblemFinalAnswer(dspy.Signature):\n",
      "    \"\"\"\n",
      "    Given a math word problem and a detailed step-by-step solution, extract ONLY the final answer in the simplest form, with no explanation, no units, and no restatement of the question. If the answer is a fraction, use LaTeX format (e.g., \\\\frac{a}{b}); if an interval, use standard interval notation (e.g., [0,1)); if a probability, use the simplest exact form.\n",
      "    \"\"\"\n",
      "    question = dspy.InputField(desc=\"A math word problem.\")\n",
      "    reasoning = dspy.InputField(desc=\"A detailed step-by-step solution to the problem.\")\n",
      "    answer: str = dspy.OutputField(desc=\"Final answer ONLY, in the simplest form, with no explanation or restatement. Use LaTeX for fractions, interval notation for intervals, and exact values for probabilities.\")\n",
      "\n",
      "class MathWordProblemModule(dspy.Module):\n",
      "    def __init__(self):\n",
      "        super().__init__()\n",
      "        # Use a richer prompt for reasoning, requesting explicit answer extraction at the end\n",
      "        self.reasoning_generator = dspy.ChainOfThought(\n",
      "            dspy.Signature(\n",
      "                \"\"\"\n",
      "                Solve the following math word problem step by step, showing all equations, logical steps, and explanations in the reasoning field. \n",
      "                At the end of your reasoning, clearly state the final answer on a separate line, starting with 'Final Answer:' and following the instructions for answer formatting: \n",
      "                - If the answer is a fraction, use LaTeX format (e.g., \\\\frac{a}{b}); \n",
      "                - If an interval, use standard interval notation (e.g., [0,1)); \n",
      "                - If a probability, use the simplest exact form.\n",
      "                Do not restate the question or include any explanation in the final answer line.\n",
      "                \"\"\",\n",
      "                question=dspy.InputField(desc=\"A math word problem to solve.\"),\n",
      "                reasoning=dspy.OutputField(desc=\"Step-by-step solution with equations, logical steps, and explanations. Show all work. End with 'Final Answer: ...' on its own line.\"),\n",
      "            )\n",
      "        )\n",
      "        # Use a more extractive prompt for answer extraction, looking for the 'Final Answer:' line if present\n",
      "        self.answer_extractor = dspy.Predict(\n",
      "            dspy.Signature(\n",
      "                \"\"\"\n",
      "                Given a math word problem and a detailed step-by-step solution, extract ONLY the final answer in the simplest form, with no explanation, no units, and no restatement of the question. \n",
      "                If the reasoning contains a line starting with 'Final Answer:', extract what follows as the answer. \n",
      "                If not, extract the last mathematical expression or value that represents the answer, following the formatting rules: \n",
      "                - If the answer is a fraction, use LaTeX format (e.g., \\\\frac{a}{b}); \n",
      "                - If an interval, use standard interval notation (e.g., [0,1)); \n",
      "                - If a probability, use the simplest exact form.\n",
      "                \"\"\",\n",
      "                question=dspy.InputField(desc=\"A math word problem.\"),\n",
      "                reasoning=dspy.InputField(desc=\"A detailed step-by-step solution to the problem, ending with 'Final Answer: ...' if possible.\"),\n",
      "                answer=dspy.OutputField(desc=\"Final answer ONLY, in the simplest form, with no explanation or restatement. Use LaTeX for fractions, interval notation for intervals, and exact values for probabilities.\"),\n",
      "            )\n",
      "        )\n",
      "\n",
      "    def forward(self, question):\n",
      "        reasoning_pred = self.reasoning_generator(question=question)\n",
      "        # Try to extract the answer from the 'Final Answer:' line if present\n",
      "        answer_pred = self.answer_extractor(\n",
      "            question=question,\n",
      "            reasoning=reasoning_pred.reasoning\n",
      "        )\n",
      "        return dspy.Prediction(\n",
      "            reasoning=reasoning_pred.reasoning,\n",
      "            answer=answer_pred.answer\n",
      "        )\n",
      "\n",
      "program = MathWordProblemModule()\n",
      "Iteration 52: New subsample score is not better, skipping\n",
      "Iteration 53: Selected program 4 score: 0.92\n",
      "Average Metric: 3.00 / 3 (100.0%): 100%|█████████████████████████████████████████████████████████████████████████████████████████████| 3/3 [00:00<00:00, 114.80it/s]"
     ]
    },
    {
     "name": "stderr",
     "output_type": "stream",
     "text": [
      "2025/08/27 05:08:10 INFO dspy.evaluate.evaluate: Average Metric: 3.0 / 3 (100.0%)\n"
     ]
    },
    {
     "name": "stdout",
     "output_type": "stream",
     "text": [
      "\n",
      "Iteration 53: All subsample scores perfect. Skipping.\n",
      "Iteration 53: Reflective mutation did not propose a new candidate\n",
      "Iteration 54: Selected program 4 score: 0.92\n",
      "Average Metric: 3.00 / 3 (100.0%): 100%|█████████████████████████████████████████████████████████████████████████████████████████████| 3/3 [00:00<00:00, 122.64it/s]"
     ]
    },
    {
     "name": "stderr",
     "output_type": "stream",
     "text": [
      "2025/08/27 05:08:10 INFO dspy.evaluate.evaluate: Average Metric: 3.0 / 3 (100.0%)\n",
      "GEPA Optimization:  96%|███████████████████████████████████████████████████████████████████████████████████████████████▌    | 478/500 [00:26<00:00, 27.54rollouts/s]"
     ]
    },
    {
     "name": "stdout",
     "output_type": "stream",
     "text": [
      "\n",
      "Iteration 54: All subsample scores perfect. Skipping.\n",
      "Iteration 54: Reflective mutation did not propose a new candidate\n",
      "Iteration 55: Selected program 4 score: 0.92\n",
      "Average Metric: 3.00 / 3 (100.0%): 100%|█████████████████████████████████████████████████████████████████████████████████████████████| 3/3 [00:00<00:00, 118.67it/s]"
     ]
    },
    {
     "name": "stderr",
     "output_type": "stream",
     "text": [
      "2025/08/27 05:08:10 INFO dspy.evaluate.evaluate: Average Metric: 3.0 / 3 (100.0%)\n"
     ]
    },
    {
     "name": "stdout",
     "output_type": "stream",
     "text": [
      "\n",
      "Iteration 55: All subsample scores perfect. Skipping.\n",
      "Iteration 55: Reflective mutation did not propose a new candidate\n",
      "Iteration 56: Selected program 4 score: 0.92\n",
      "Average Metric: 3.00 / 3 (100.0%): 100%|█████████████████████████████████████████████████████████████████████████████████████████████| 3/3 [00:00<00:00, 112.16it/s]"
     ]
    },
    {
     "name": "stderr",
     "output_type": "stream",
     "text": [
      "2025/08/27 05:08:10 INFO dspy.evaluate.evaluate: Average Metric: 3.0 / 3 (100.0%)\n"
     ]
    },
    {
     "name": "stdout",
     "output_type": "stream",
     "text": [
      "\n",
      "Iteration 56: All subsample scores perfect. Skipping.\n",
      "Iteration 56: Reflective mutation did not propose a new candidate\n",
      "Iteration 57: Selected program 4 score: 0.92\n",
      "Average Metric: 3.00 / 3 (100.0%): 100%|█████████████████████████████████████████████████████████████████████████████████████████████| 3/3 [00:00<00:00, 121.06it/s]"
     ]
    },
    {
     "name": "stderr",
     "output_type": "stream",
     "text": [
      "2025/08/27 05:08:10 INFO dspy.evaluate.evaluate: Average Metric: 3.0 / 3 (100.0%)\n"
     ]
    },
    {
     "name": "stdout",
     "output_type": "stream",
     "text": [
      "\n",
      "Iteration 57: All subsample scores perfect. Skipping.\n",
      "Iteration 57: Reflective mutation did not propose a new candidate\n",
      "Iteration 58: Selected program 4 score: 0.92\n",
      "Average Metric: 3.00 / 3 (100.0%): 100%|█████████████████████████████████████████████████████████████████████████████████████████████| 3/3 [00:00<00:00, 121.87it/s]"
     ]
    },
    {
     "name": "stderr",
     "output_type": "stream",
     "text": [
      "2025/08/27 05:08:10 INFO dspy.evaluate.evaluate: Average Metric: 3.0 / 3 (100.0%)\n"
     ]
    },
    {
     "name": "stdout",
     "output_type": "stream",
     "text": [
      "\n",
      "Iteration 58: All subsample scores perfect. Skipping.\n",
      "Iteration 58: Reflective mutation did not propose a new candidate\n",
      "Iteration 59: Selected program 4 score: 0.92\n",
      "Average Metric: 3.00 / 3 (100.0%): 100%|█████████████████████████████████████████████████████████████████████████████████████████████| 3/3 [00:00<00:00, 116.46it/s]"
     ]
    },
    {
     "name": "stderr",
     "output_type": "stream",
     "text": [
      "2025/08/27 05:08:10 INFO dspy.evaluate.evaluate: Average Metric: 3.0 / 3 (100.0%)\n",
      "GEPA Optimization:  99%|██████████████████████████████████████████████████████████████████████████████████████████████████▌ | 493/500 [00:26<00:00, 31.61rollouts/s]"
     ]
    },
    {
     "name": "stdout",
     "output_type": "stream",
     "text": [
      "\n",
      "Iteration 59: All subsample scores perfect. Skipping.\n",
      "Iteration 59: Reflective mutation did not propose a new candidate\n",
      "Iteration 60: Selected program 4 score: 0.92\n",
      "Average Metric: 3.00 / 3 (100.0%): 100%|██████████████████████████████████████████████████████████████████████████████████████████████| 3/3 [00:00<00:00, 33.93it/s]"
     ]
    },
    {
     "name": "stderr",
     "output_type": "stream",
     "text": [
      "2025/08/27 05:08:10 INFO dspy.evaluate.evaluate: Average Metric: 3.0 / 3 (100.0%)\n"
     ]
    },
    {
     "name": "stdout",
     "output_type": "stream",
     "text": [
      "\n",
      "Iteration 60: All subsample scores perfect. Skipping.\n",
      "Iteration 60: Reflective mutation did not propose a new candidate\n",
      "Iteration 61: Selected program 4 score: 0.92\n",
      "Average Metric: 3.00 / 3 (100.0%): 100%|█████████████████████████████████████████████████████████████████████████████████████████████| 3/3 [00:00<00:00, 106.63it/s]"
     ]
    },
    {
     "name": "stderr",
     "output_type": "stream",
     "text": [
      "2025/08/27 05:08:10 INFO dspy.evaluate.evaluate: Average Metric: 3.0 / 3 (100.0%)\n"
     ]
    },
    {
     "name": "stdout",
     "output_type": "stream",
     "text": [
      "\n",
      "Iteration 61: All subsample scores perfect. Skipping.\n",
      "Iteration 61: Reflective mutation did not propose a new candidate\n",
      "Iteration 62: Selected program 4 score: 0.92\n",
      "Average Metric: 2.00 / 3 (66.7%): 100%|██████████████████████████████████████████████████████████████████████████████████████████████| 3/3 [00:00<00:00, 121.96it/s]"
     ]
    },
    {
     "name": "stderr",
     "output_type": "stream",
     "text": [
      "2025/08/27 05:08:10 INFO dspy.evaluate.evaluate: Average Metric: 2.0 / 3 (66.7%)\n"
     ]
    },
    {
     "name": "stdout",
     "output_type": "stream",
     "text": [
      "\n",
      "Iteration 62: Proposed new text for program: from typing import Optional\n",
      "import dspy\n",
      "\n",
      "class MathWordProblemSignature(dspy.Signature):\n",
      "    \"\"\"\n",
      "    Solve the given math word problem step by step, showing clear, detailed reasoning in the reasoning field. In the answer field, provide ONLY the final answer, in the simplest form, with no explanation, no units, and no restatement of the question. If the answer is a fraction, use LaTeX format (e.g., \\\\frac{a}{b}); if an interval, use standard interval notation (e.g., [0,1)); if a probability, use the simplest exact form.\n",
      "    \"\"\"\n",
      "    question = dspy.InputField(desc=\"A math word problem to solve.\")\n",
      "    reasoning = dspy.OutputField(desc=\"Step-by-step solution with equations, logical steps, and explanations. Show all work.\")\n",
      "    answer: str = dspy.OutputField(desc=\"Final answer ONLY, in the simplest form, with no explanation or restatement. Use LaTeX for fractions, interval notation for intervals, and exact values for probabilities.\")\n",
      "\n",
      "class MathWordProblemFinalAnswer(dspy.Signature):\n",
      "    \"\"\"\n",
      "    Given a math word problem and a detailed step-by-step solution, extract ONLY the final answer in the simplest form, with no explanation, no units, and no restatement of the question. If the answer is a fraction, use LaTeX format (e.g., \\\\frac{a}{b}); if an interval, use standard interval notation (e.g., [0,1)); if a probability, use the simplest exact form.\n",
      "    \"\"\"\n",
      "    question = dspy.InputField(desc=\"A math word problem.\")\n",
      "    reasoning = dspy.InputField(desc=\"A detailed step-by-step solution to the problem.\")\n",
      "    answer: str = dspy.OutputField(desc=\"Final answer ONLY, in the simplest form, with no explanation or restatement. Use LaTeX for fractions, interval notation for intervals, and exact values for probabilities.\")\n",
      "\n",
      "class MathWordProblemReasoning(dspy.Signature):\n",
      "    \"\"\"\n",
      "    Solve the given math word problem step by step, showing clear, detailed reasoning in the reasoning field. DO NOT include the final answer, box the answer, or restate the question. Only provide the step-by-step solution, equations, logical steps, and explanations. Show all work.\n",
      "    \"\"\"\n",
      "    question = dspy.InputField(desc=\"A math word problem to solve.\")\n",
      "    reasoning = dspy.OutputField(desc=\"Step-by-step solution with equations, logical steps, and explanations. Show all work. Do NOT include the final answer or box it.\")\n",
      "\n",
      "class MathWordProblemModule(dspy.Module):\n",
      "    def __init__(self):\n",
      "        super().__init__()\n",
      "        # First, generate only the reasoning, with no answer or restatement\n",
      "        self.reasoning_generator = dspy.ChainOfThought(MathWordProblemReasoning)\n",
      "        # Then, extract the answer from the reasoning and question\n",
      "        self.answer_extractor = dspy.Predict(MathWordProblemFinalAnswer)\n",
      "\n",
      "    def forward(self, question):\n",
      "        # Generate only the reasoning, not the answer\n",
      "        reasoning_pred = self.reasoning_generator(question=question)\n",
      "        # Now extract the answer from the reasoning\n",
      "        answer_pred = self.answer_extractor(\n",
      "            question=question,\n",
      "            reasoning=reasoning_pred.reasoning\n",
      "        )\n",
      "        return dspy.Prediction(\n",
      "            reasoning=reasoning_pred.reasoning,\n",
      "            answer=answer_pred.answer\n",
      "        )\n",
      "\n",
      "program = MathWordProblemModule()\n"
     ]
    },
    {
     "name": "stderr",
     "output_type": "stream",
     "text": [
      "2025/08/27 05:08:10 INFO dspy.evaluate.evaluate: Average Metric: 2.0 / 3 (66.7%)\n",
      "GEPA Optimization: 100%|███████████████████████████████████████████████████████████████████████████████████████████████████▊| 499/500 [00:26<00:00, 18.68rollouts/s]"
     ]
    },
    {
     "name": "stdout",
     "output_type": "stream",
     "text": [
      "Iteration 62: New subsample score is not better, skipping\n"
     ]
    },
    {
     "name": "stderr",
     "output_type": "stream",
     "text": [
      "\n"
     ]
    }
   ],
   "source": [
    "from gepa import optimize\n",
    "\n",
    "o = optimize(\n",
    "    seed_candidate={\"program\": program_src},\n",
    "    trainset=dataset.train[:50],\n",
    "    valset=dataset.dev[:50],\n",
    "    adapter=adapter,\n",
    "    reflection_lm=lambda x: reflection_lm(x)[0],\n",
    "    max_metric_calls=2000,\n",
    "    display_progress_bar=True,\n",
    ")"
   ]
  },
  {
   "cell_type": "markdown",
   "metadata": {},
   "source": [
    "Let's see the DSPy program found by GEPA"
   ]
  },
  {
   "cell_type": "code",
   "execution_count": 21,
   "metadata": {},
   "outputs": [
    {
     "name": "stdout",
     "output_type": "stream",
     "text": [
      "from typing import Optional\n",
      "import dspy\n",
      "\n",
      "class MathWordProblemSignature(dspy.Signature):\n",
      "    \"\"\"\n",
      "    Solve the given math word problem step by step, showing clear, detailed reasoning in the reasoning field. In the answer field, provide ONLY the final answer, in the simplest form, with no explanation, no units, and no restatement of the question. If the answer is a fraction, use LaTeX format (e.g., \\\\frac{a}{b}); if an interval, use standard interval notation (e.g., [0,1)); if a probability, use the simplest exact form.\n",
      "    \"\"\"\n",
      "    question = dspy.InputField(desc=\"A math word problem to solve.\")\n",
      "    reasoning = dspy.OutputField(desc=\"Step-by-step solution with equations, logical steps, and explanations. Show all work.\")\n",
      "    answer: str = dspy.OutputField(desc=\"Final answer ONLY, in the simplest form, with no explanation or restatement. Use LaTeX for fractions, interval notation for intervals, and exact values for probabilities.\")\n",
      "\n",
      "class MathWordProblemFinalAnswer(dspy.Signature):\n",
      "    \"\"\"\n",
      "    Given a math word problem and a detailed step-by-step solution, extract ONLY the final answer in the simplest form, with no explanation, no units, and no restatement of the question. If the answer is a fraction, use LaTeX format (e.g., \\\\frac{a}{b}); if an interval, use standard interval notation (e.g., [0,1)); if a probability, use the simplest exact form.\n",
      "    \"\"\"\n",
      "    question = dspy.InputField(desc=\"A math word problem.\")\n",
      "    reasoning = dspy.InputField(desc=\"A detailed step-by-step solution to the problem.\")\n",
      "    answer: str = dspy.OutputField(desc=\"Final answer ONLY, in the simplest form, with no explanation or restatement. Use LaTeX for fractions, interval notation for intervals, and exact values for probabilities.\")\n",
      "\n",
      "class MathWordProblemModule(dspy.Module):\n",
      "    def __init__(self):\n",
      "        super().__init__()\n",
      "        self.reasoning_generator = dspy.ChainOfThought(\n",
      "            \"question -> reasoning\"\n",
      "        )\n",
      "        self.answer_extractor = dspy.Predict(MathWordProblemFinalAnswer)\n",
      "\n",
      "    def forward(self, question):\n",
      "        reasoning_pred = self.reasoning_generator(question=question)\n",
      "        answer_pred = self.answer_extractor(\n",
      "            question=question,\n",
      "            reasoning=reasoning_pred.reasoning\n",
      "        )\n",
      "        return dspy.Prediction(\n",
      "            reasoning=reasoning_pred.reasoning,\n",
      "            answer=answer_pred.answer\n",
      "        )\n",
      "\n",
      "program = MathWordProblemModule()\n"
     ]
    }
   ],
   "source": [
    "print(o.best_candidate[\"program\"])"
   ]
  },
  {
   "cell_type": "markdown",
   "metadata": {},
   "source": [
    "Evaluating the optimized program"
   ]
  },
  {
   "cell_type": "code",
   "execution_count": 18,
   "metadata": {},
   "outputs": [
    {
     "name": "stderr",
     "output_type": "stream",
     "text": [
      "2025/08/27 05:12:51 INFO dspy.evaluate.evaluate: Average Metric: 448.0 / 487 (92.0%)\n"
     ]
    }
   ],
   "source": [
    "adapter.evaluate(dataset.test, o.best_candidate)"
   ]
  },
  {
   "cell_type": "markdown",
   "metadata": {},
   "source": [
    "We see it going from 67.1% to 92% in just a few rounds of optimization!"
   ]
  }
 ],
 "metadata": {
  "kernelspec": {
   "display_name": "Python 3 (ipykernel)",
   "language": "python",
   "name": "python3"
  }
 },
 "nbformat": 4,
 "nbformat_minor": 2
}
